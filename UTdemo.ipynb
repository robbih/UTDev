{
  "cells": [
    {
      "cell_type": "markdown",
      "metadata": {
        "id": "cfU1RCuw-JeP"
      },
      "source": [
        "#**Data Exploration of \"University Advancement, Donations, and Giving\"**\n",
        "\n",
        "### By: Robbi Horvath\n",
        "### January 2022\n",
        "\n",
        "\"University Advancement, Donations, and Giving\" from Tableau Public Sample Data https://public.tableau.com/app/resources/sample-data"
      ]
    },
    {
      "cell_type": "markdown",
      "metadata": {
        "id": "x3UbXCYN-VH5"
      },
      "source": [
        "##**Introduction**\n",
        "The goal of this notebook is to perform data exploration and simple regression models using fictional university charitible giving data. \n",
        "\n",
        "##**Columns**\n",
        "###**Prospect ID** - Individual donors\n",
        "### **Year of Graduation** - Year that the donor graduated from University\n",
        "### **Allocation Subcategory** - Various funds, colleges, libraries, endowments, etc. This is a more granualar category of Gift Allocation (see below)\n",
        "### **City** - City of residence of donor\n",
        "### **College** - This is a high level of academic specialization such as College of Natural Science, College of Business, College of Nurse, etc\n",
        "### **Gift Allocation** - Categories of intended gifts including endowment, campus resource, or endowment\n",
        "### **Gift Amount** - Amount in $ of individual gift\n",
        "### **Gift Date** - Date gift was made\n",
        "### **Major** - Specialized area of study within college (ex. Marketing or Finance within the College of Business)\n",
        "### **State** - State of residence of donor in two letter abbreviated format\n",
        "\n",
        "\n",
        "\n"
      ]
    },
    {
      "cell_type": "code",
      "execution_count": null,
      "metadata": {
        "colab": {
          "base_uri": "https://localhost:8080/",
          "height": 108
        },
        "id": "u3UYMaBZ9xNg",
        "outputId": "ba8251ff-871b-495b-dcfd-47c4ebf0058e"
      },
      "outputs": [
        {
          "output_type": "display_data",
          "data": {
            "text/plain": [
              "<IPython.core.display.HTML object>"
            ],
            "text/html": [
              "\n",
              "     <input type=\"file\" id=\"files-0d36c831-6fe2-4674-b723-dd30150f3aeb\" name=\"files[]\" multiple disabled\n",
              "        style=\"border:none\" />\n",
              "     <output id=\"result-0d36c831-6fe2-4674-b723-dd30150f3aeb\">\n",
              "      Upload widget is only available when the cell has been executed in the\n",
              "      current browser session. Please rerun this cell to enable.\n",
              "      </output>\n",
              "      <script>// Copyright 2017 Google LLC\n",
              "//\n",
              "// Licensed under the Apache License, Version 2.0 (the \"License\");\n",
              "// you may not use this file except in compliance with the License.\n",
              "// You may obtain a copy of the License at\n",
              "//\n",
              "//      http://www.apache.org/licenses/LICENSE-2.0\n",
              "//\n",
              "// Unless required by applicable law or agreed to in writing, software\n",
              "// distributed under the License is distributed on an \"AS IS\" BASIS,\n",
              "// WITHOUT WARRANTIES OR CONDITIONS OF ANY KIND, either express or implied.\n",
              "// See the License for the specific language governing permissions and\n",
              "// limitations under the License.\n",
              "\n",
              "/**\n",
              " * @fileoverview Helpers for google.colab Python module.\n",
              " */\n",
              "(function(scope) {\n",
              "function span(text, styleAttributes = {}) {\n",
              "  const element = document.createElement('span');\n",
              "  element.textContent = text;\n",
              "  for (const key of Object.keys(styleAttributes)) {\n",
              "    element.style[key] = styleAttributes[key];\n",
              "  }\n",
              "  return element;\n",
              "}\n",
              "\n",
              "// Max number of bytes which will be uploaded at a time.\n",
              "const MAX_PAYLOAD_SIZE = 100 * 1024;\n",
              "\n",
              "function _uploadFiles(inputId, outputId) {\n",
              "  const steps = uploadFilesStep(inputId, outputId);\n",
              "  const outputElement = document.getElementById(outputId);\n",
              "  // Cache steps on the outputElement to make it available for the next call\n",
              "  // to uploadFilesContinue from Python.\n",
              "  outputElement.steps = steps;\n",
              "\n",
              "  return _uploadFilesContinue(outputId);\n",
              "}\n",
              "\n",
              "// This is roughly an async generator (not supported in the browser yet),\n",
              "// where there are multiple asynchronous steps and the Python side is going\n",
              "// to poll for completion of each step.\n",
              "// This uses a Promise to block the python side on completion of each step,\n",
              "// then passes the result of the previous step as the input to the next step.\n",
              "function _uploadFilesContinue(outputId) {\n",
              "  const outputElement = document.getElementById(outputId);\n",
              "  const steps = outputElement.steps;\n",
              "\n",
              "  const next = steps.next(outputElement.lastPromiseValue);\n",
              "  return Promise.resolve(next.value.promise).then((value) => {\n",
              "    // Cache the last promise value to make it available to the next\n",
              "    // step of the generator.\n",
              "    outputElement.lastPromiseValue = value;\n",
              "    return next.value.response;\n",
              "  });\n",
              "}\n",
              "\n",
              "/**\n",
              " * Generator function which is called between each async step of the upload\n",
              " * process.\n",
              " * @param {string} inputId Element ID of the input file picker element.\n",
              " * @param {string} outputId Element ID of the output display.\n",
              " * @return {!Iterable<!Object>} Iterable of next steps.\n",
              " */\n",
              "function* uploadFilesStep(inputId, outputId) {\n",
              "  const inputElement = document.getElementById(inputId);\n",
              "  inputElement.disabled = false;\n",
              "\n",
              "  const outputElement = document.getElementById(outputId);\n",
              "  outputElement.innerHTML = '';\n",
              "\n",
              "  const pickedPromise = new Promise((resolve) => {\n",
              "    inputElement.addEventListener('change', (e) => {\n",
              "      resolve(e.target.files);\n",
              "    });\n",
              "  });\n",
              "\n",
              "  const cancel = document.createElement('button');\n",
              "  inputElement.parentElement.appendChild(cancel);\n",
              "  cancel.textContent = 'Cancel upload';\n",
              "  const cancelPromise = new Promise((resolve) => {\n",
              "    cancel.onclick = () => {\n",
              "      resolve(null);\n",
              "    };\n",
              "  });\n",
              "\n",
              "  // Wait for the user to pick the files.\n",
              "  const files = yield {\n",
              "    promise: Promise.race([pickedPromise, cancelPromise]),\n",
              "    response: {\n",
              "      action: 'starting',\n",
              "    }\n",
              "  };\n",
              "\n",
              "  cancel.remove();\n",
              "\n",
              "  // Disable the input element since further picks are not allowed.\n",
              "  inputElement.disabled = true;\n",
              "\n",
              "  if (!files) {\n",
              "    return {\n",
              "      response: {\n",
              "        action: 'complete',\n",
              "      }\n",
              "    };\n",
              "  }\n",
              "\n",
              "  for (const file of files) {\n",
              "    const li = document.createElement('li');\n",
              "    li.append(span(file.name, {fontWeight: 'bold'}));\n",
              "    li.append(span(\n",
              "        `(${file.type || 'n/a'}) - ${file.size} bytes, ` +\n",
              "        `last modified: ${\n",
              "            file.lastModifiedDate ? file.lastModifiedDate.toLocaleDateString() :\n",
              "                                    'n/a'} - `));\n",
              "    const percent = span('0% done');\n",
              "    li.appendChild(percent);\n",
              "\n",
              "    outputElement.appendChild(li);\n",
              "\n",
              "    const fileDataPromise = new Promise((resolve) => {\n",
              "      const reader = new FileReader();\n",
              "      reader.onload = (e) => {\n",
              "        resolve(e.target.result);\n",
              "      };\n",
              "      reader.readAsArrayBuffer(file);\n",
              "    });\n",
              "    // Wait for the data to be ready.\n",
              "    let fileData = yield {\n",
              "      promise: fileDataPromise,\n",
              "      response: {\n",
              "        action: 'continue',\n",
              "      }\n",
              "    };\n",
              "\n",
              "    // Use a chunked sending to avoid message size limits. See b/62115660.\n",
              "    let position = 0;\n",
              "    do {\n",
              "      const length = Math.min(fileData.byteLength - position, MAX_PAYLOAD_SIZE);\n",
              "      const chunk = new Uint8Array(fileData, position, length);\n",
              "      position += length;\n",
              "\n",
              "      const base64 = btoa(String.fromCharCode.apply(null, chunk));\n",
              "      yield {\n",
              "        response: {\n",
              "          action: 'append',\n",
              "          file: file.name,\n",
              "          data: base64,\n",
              "        },\n",
              "      };\n",
              "\n",
              "      let percentDone = fileData.byteLength === 0 ?\n",
              "          100 :\n",
              "          Math.round((position / fileData.byteLength) * 100);\n",
              "      percent.textContent = `${percentDone}% done`;\n",
              "\n",
              "    } while (position < fileData.byteLength);\n",
              "  }\n",
              "\n",
              "  // All done.\n",
              "  yield {\n",
              "    response: {\n",
              "      action: 'complete',\n",
              "    }\n",
              "  };\n",
              "}\n",
              "\n",
              "scope.google = scope.google || {};\n",
              "scope.google.colab = scope.google.colab || {};\n",
              "scope.google.colab._files = {\n",
              "  _uploadFiles,\n",
              "  _uploadFilesContinue,\n",
              "};\n",
              "})(self);\n",
              "</script> "
            ]
          },
          "metadata": {}
        },
        {
          "output_type": "stream",
          "name": "stdout",
          "text": [
            "Saving GradYear.csv to GradYear (7).csv\n",
            "Saving GiftRecords.csv to GiftRecords (7).csv\n"
          ]
        }
      ],
      "source": [
        "from google.colab import files\n",
        " \n",
        " \n",
        "uploaded = files.upload()"
      ]
    },
    {
      "cell_type": "code",
      "execution_count": null,
      "metadata": {
        "id": "dJsUk4MV6qVL"
      },
      "outputs": [],
      "source": [
        "#Import Libraries\n",
        "\n",
        "import pandas as pd\n",
        "import matplotlib.pyplot as plt\n",
        "import seaborn as sns\n",
        "import numpy as np\n",
        "from scipy.stats import norm\n",
        "from sklearn.preprocessing import StandardScaler\n",
        "from sklearn.linear_model import LinearRegression, RidgeCV, LassoCV, ElasticNetCV\n",
        "from sklearn.metrics import r2_score,mean_squared_error,mean_absolute_error\n",
        "from sklearn.model_selection import cross_val_score\n",
        "from scipy import stats\n",
        "import warnings\n",
        "import io\n",
        "warnings.filterwarnings('ignore')\n",
        "%matplotlib inline"
      ]
    },
    {
      "cell_type": "code",
      "execution_count": null,
      "metadata": {
        "id": "94KdGHbSZvSf",
        "colab": {
          "base_uri": "https://localhost:8080/",
          "height": 206
        },
        "outputId": "9c5b116a-556f-485b-da9c-013042d02c25"
      },
      "outputs": [
        {
          "output_type": "execute_result",
          "data": {
            "text/plain": [
              "   Prospect ID  Year of Graduation\n",
              "0         1515                1970\n",
              "1         1588                1992\n",
              "2         2508                1984\n",
              "3         2589                1981\n",
              "4         3012                1993"
            ],
            "text/html": [
              "\n",
              "  <div id=\"df-694cc033-fad8-499f-999f-b7e6d6eb393b\">\n",
              "    <div class=\"colab-df-container\">\n",
              "      <div>\n",
              "<style scoped>\n",
              "    .dataframe tbody tr th:only-of-type {\n",
              "        vertical-align: middle;\n",
              "    }\n",
              "\n",
              "    .dataframe tbody tr th {\n",
              "        vertical-align: top;\n",
              "    }\n",
              "\n",
              "    .dataframe thead th {\n",
              "        text-align: right;\n",
              "    }\n",
              "</style>\n",
              "<table border=\"1\" class=\"dataframe\">\n",
              "  <thead>\n",
              "    <tr style=\"text-align: right;\">\n",
              "      <th></th>\n",
              "      <th>Prospect ID</th>\n",
              "      <th>Year of Graduation</th>\n",
              "    </tr>\n",
              "  </thead>\n",
              "  <tbody>\n",
              "    <tr>\n",
              "      <th>0</th>\n",
              "      <td>1515</td>\n",
              "      <td>1970</td>\n",
              "    </tr>\n",
              "    <tr>\n",
              "      <th>1</th>\n",
              "      <td>1588</td>\n",
              "      <td>1992</td>\n",
              "    </tr>\n",
              "    <tr>\n",
              "      <th>2</th>\n",
              "      <td>2508</td>\n",
              "      <td>1984</td>\n",
              "    </tr>\n",
              "    <tr>\n",
              "      <th>3</th>\n",
              "      <td>2589</td>\n",
              "      <td>1981</td>\n",
              "    </tr>\n",
              "    <tr>\n",
              "      <th>4</th>\n",
              "      <td>3012</td>\n",
              "      <td>1993</td>\n",
              "    </tr>\n",
              "  </tbody>\n",
              "</table>\n",
              "</div>\n",
              "      <button class=\"colab-df-convert\" onclick=\"convertToInteractive('df-694cc033-fad8-499f-999f-b7e6d6eb393b')\"\n",
              "              title=\"Convert this dataframe to an interactive table.\"\n",
              "              style=\"display:none;\">\n",
              "        \n",
              "  <svg xmlns=\"http://www.w3.org/2000/svg\" height=\"24px\"viewBox=\"0 0 24 24\"\n",
              "       width=\"24px\">\n",
              "    <path d=\"M0 0h24v24H0V0z\" fill=\"none\"/>\n",
              "    <path d=\"M18.56 5.44l.94 2.06.94-2.06 2.06-.94-2.06-.94-.94-2.06-.94 2.06-2.06.94zm-11 1L8.5 8.5l.94-2.06 2.06-.94-2.06-.94L8.5 2.5l-.94 2.06-2.06.94zm10 10l.94 2.06.94-2.06 2.06-.94-2.06-.94-.94-2.06-.94 2.06-2.06.94z\"/><path d=\"M17.41 7.96l-1.37-1.37c-.4-.4-.92-.59-1.43-.59-.52 0-1.04.2-1.43.59L10.3 9.45l-7.72 7.72c-.78.78-.78 2.05 0 2.83L4 21.41c.39.39.9.59 1.41.59.51 0 1.02-.2 1.41-.59l7.78-7.78 2.81-2.81c.8-.78.8-2.07 0-2.86zM5.41 20L4 18.59l7.72-7.72 1.47 1.35L5.41 20z\"/>\n",
              "  </svg>\n",
              "      </button>\n",
              "      \n",
              "  <style>\n",
              "    .colab-df-container {\n",
              "      display:flex;\n",
              "      flex-wrap:wrap;\n",
              "      gap: 12px;\n",
              "    }\n",
              "\n",
              "    .colab-df-convert {\n",
              "      background-color: #E8F0FE;\n",
              "      border: none;\n",
              "      border-radius: 50%;\n",
              "      cursor: pointer;\n",
              "      display: none;\n",
              "      fill: #1967D2;\n",
              "      height: 32px;\n",
              "      padding: 0 0 0 0;\n",
              "      width: 32px;\n",
              "    }\n",
              "\n",
              "    .colab-df-convert:hover {\n",
              "      background-color: #E2EBFA;\n",
              "      box-shadow: 0px 1px 2px rgba(60, 64, 67, 0.3), 0px 1px 3px 1px rgba(60, 64, 67, 0.15);\n",
              "      fill: #174EA6;\n",
              "    }\n",
              "\n",
              "    [theme=dark] .colab-df-convert {\n",
              "      background-color: #3B4455;\n",
              "      fill: #D2E3FC;\n",
              "    }\n",
              "\n",
              "    [theme=dark] .colab-df-convert:hover {\n",
              "      background-color: #434B5C;\n",
              "      box-shadow: 0px 1px 3px 1px rgba(0, 0, 0, 0.15);\n",
              "      filter: drop-shadow(0px 1px 2px rgba(0, 0, 0, 0.3));\n",
              "      fill: #FFFFFF;\n",
              "    }\n",
              "  </style>\n",
              "\n",
              "      <script>\n",
              "        const buttonEl =\n",
              "          document.querySelector('#df-694cc033-fad8-499f-999f-b7e6d6eb393b button.colab-df-convert');\n",
              "        buttonEl.style.display =\n",
              "          google.colab.kernel.accessAllowed ? 'block' : 'none';\n",
              "\n",
              "        async function convertToInteractive(key) {\n",
              "          const element = document.querySelector('#df-694cc033-fad8-499f-999f-b7e6d6eb393b');\n",
              "          const dataTable =\n",
              "            await google.colab.kernel.invokeFunction('convertToInteractive',\n",
              "                                                     [key], {});\n",
              "          if (!dataTable) return;\n",
              "\n",
              "          const docLinkHtml = 'Like what you see? Visit the ' +\n",
              "            '<a target=\"_blank\" href=https://colab.research.google.com/notebooks/data_table.ipynb>data table notebook</a>'\n",
              "            + ' to learn more about interactive tables.';\n",
              "          element.innerHTML = '';\n",
              "          dataTable['output_type'] = 'display_data';\n",
              "          await google.colab.output.renderOutput(dataTable, element);\n",
              "          const docLink = document.createElement('div');\n",
              "          docLink.innerHTML = docLinkHtml;\n",
              "          element.appendChild(docLink);\n",
              "        }\n",
              "      </script>\n",
              "    </div>\n",
              "  </div>\n",
              "  "
            ]
          },
          "metadata": {},
          "execution_count": 354
        }
      ],
      "source": [
        "#Import both sheets as csv files \n",
        "\n",
        "df1 = pd.read_csv(io.BytesIO(uploaded['GradYear.csv']))\n",
        "df2 = pd.read_csv(io.BytesIO(uploaded['GiftRecords.csv']))\n",
        "df1.head()\n"
      ]
    },
    {
      "cell_type": "code",
      "execution_count": null,
      "metadata": {
        "id": "u1iBCsmMasBB",
        "colab": {
          "base_uri": "https://localhost:8080/",
          "height": 424
        },
        "outputId": "a3f3bdc2-5409-4fe0-f18b-097bc825c5ec"
      },
      "outputs": [
        {
          "output_type": "execute_result",
          "data": {
            "text/plain": [
              "                       Allocation Subcategory              City  \\\n",
              "0                  College of Natural Science            Denver   \n",
              "1                  College of Natural Science     San Francisco   \n",
              "2                   Minority Scholarship Fund       Los Angeles   \n",
              "3  College of Communication Arts and Sciences              Mesa   \n",
              "4                              Diversity Fund  West Valley City   \n",
              "\n",
              "                      College Gift Allocation  Gift Amount   Gift Date  \\\n",
              "0  College of Natural Science     Scholarship       5088.0   7/28/2010   \n",
              "1   College of Social Science     Scholarship       3793.0   9/10/2010   \n",
              "2         College of Business     Scholarship       2952.0   6/30/2010   \n",
              "3  College of Natural Science     Scholarship       2872.0  11/23/2010   \n",
              "4   College of Social Science       Endowment       2022.0  10/10/2010   \n",
              "\n",
              "                                  Major  Prospect ID State  \n",
              "0  Biological Science Interdepartmental         1000    CO  \n",
              "1  Human Development and Family Studies         1001    CA  \n",
              "2                            Accounting         1002    CA  \n",
              "3                           Mathematics         1003    AZ  \n",
              "4                            Psychology         1004    UT  "
            ],
            "text/html": [
              "\n",
              "  <div id=\"df-08dde7c9-68eb-411c-ab1a-d04da7a2f931\">\n",
              "    <div class=\"colab-df-container\">\n",
              "      <div>\n",
              "<style scoped>\n",
              "    .dataframe tbody tr th:only-of-type {\n",
              "        vertical-align: middle;\n",
              "    }\n",
              "\n",
              "    .dataframe tbody tr th {\n",
              "        vertical-align: top;\n",
              "    }\n",
              "\n",
              "    .dataframe thead th {\n",
              "        text-align: right;\n",
              "    }\n",
              "</style>\n",
              "<table border=\"1\" class=\"dataframe\">\n",
              "  <thead>\n",
              "    <tr style=\"text-align: right;\">\n",
              "      <th></th>\n",
              "      <th>Allocation Subcategory</th>\n",
              "      <th>City</th>\n",
              "      <th>College</th>\n",
              "      <th>Gift Allocation</th>\n",
              "      <th>Gift Amount</th>\n",
              "      <th>Gift Date</th>\n",
              "      <th>Major</th>\n",
              "      <th>Prospect ID</th>\n",
              "      <th>State</th>\n",
              "    </tr>\n",
              "  </thead>\n",
              "  <tbody>\n",
              "    <tr>\n",
              "      <th>0</th>\n",
              "      <td>College of Natural Science</td>\n",
              "      <td>Denver</td>\n",
              "      <td>College of Natural Science</td>\n",
              "      <td>Scholarship</td>\n",
              "      <td>5088.0</td>\n",
              "      <td>7/28/2010</td>\n",
              "      <td>Biological Science Interdepartmental</td>\n",
              "      <td>1000</td>\n",
              "      <td>CO</td>\n",
              "    </tr>\n",
              "    <tr>\n",
              "      <th>1</th>\n",
              "      <td>College of Natural Science</td>\n",
              "      <td>San Francisco</td>\n",
              "      <td>College of Social Science</td>\n",
              "      <td>Scholarship</td>\n",
              "      <td>3793.0</td>\n",
              "      <td>9/10/2010</td>\n",
              "      <td>Human Development and Family Studies</td>\n",
              "      <td>1001</td>\n",
              "      <td>CA</td>\n",
              "    </tr>\n",
              "    <tr>\n",
              "      <th>2</th>\n",
              "      <td>Minority Scholarship Fund</td>\n",
              "      <td>Los Angeles</td>\n",
              "      <td>College of Business</td>\n",
              "      <td>Scholarship</td>\n",
              "      <td>2952.0</td>\n",
              "      <td>6/30/2010</td>\n",
              "      <td>Accounting</td>\n",
              "      <td>1002</td>\n",
              "      <td>CA</td>\n",
              "    </tr>\n",
              "    <tr>\n",
              "      <th>3</th>\n",
              "      <td>College of Communication Arts and Sciences</td>\n",
              "      <td>Mesa</td>\n",
              "      <td>College of Natural Science</td>\n",
              "      <td>Scholarship</td>\n",
              "      <td>2872.0</td>\n",
              "      <td>11/23/2010</td>\n",
              "      <td>Mathematics</td>\n",
              "      <td>1003</td>\n",
              "      <td>AZ</td>\n",
              "    </tr>\n",
              "    <tr>\n",
              "      <th>4</th>\n",
              "      <td>Diversity Fund</td>\n",
              "      <td>West Valley City</td>\n",
              "      <td>College of Social Science</td>\n",
              "      <td>Endowment</td>\n",
              "      <td>2022.0</td>\n",
              "      <td>10/10/2010</td>\n",
              "      <td>Psychology</td>\n",
              "      <td>1004</td>\n",
              "      <td>UT</td>\n",
              "    </tr>\n",
              "  </tbody>\n",
              "</table>\n",
              "</div>\n",
              "      <button class=\"colab-df-convert\" onclick=\"convertToInteractive('df-08dde7c9-68eb-411c-ab1a-d04da7a2f931')\"\n",
              "              title=\"Convert this dataframe to an interactive table.\"\n",
              "              style=\"display:none;\">\n",
              "        \n",
              "  <svg xmlns=\"http://www.w3.org/2000/svg\" height=\"24px\"viewBox=\"0 0 24 24\"\n",
              "       width=\"24px\">\n",
              "    <path d=\"M0 0h24v24H0V0z\" fill=\"none\"/>\n",
              "    <path d=\"M18.56 5.44l.94 2.06.94-2.06 2.06-.94-2.06-.94-.94-2.06-.94 2.06-2.06.94zm-11 1L8.5 8.5l.94-2.06 2.06-.94-2.06-.94L8.5 2.5l-.94 2.06-2.06.94zm10 10l.94 2.06.94-2.06 2.06-.94-2.06-.94-.94-2.06-.94 2.06-2.06.94z\"/><path d=\"M17.41 7.96l-1.37-1.37c-.4-.4-.92-.59-1.43-.59-.52 0-1.04.2-1.43.59L10.3 9.45l-7.72 7.72c-.78.78-.78 2.05 0 2.83L4 21.41c.39.39.9.59 1.41.59.51 0 1.02-.2 1.41-.59l7.78-7.78 2.81-2.81c.8-.78.8-2.07 0-2.86zM5.41 20L4 18.59l7.72-7.72 1.47 1.35L5.41 20z\"/>\n",
              "  </svg>\n",
              "      </button>\n",
              "      \n",
              "  <style>\n",
              "    .colab-df-container {\n",
              "      display:flex;\n",
              "      flex-wrap:wrap;\n",
              "      gap: 12px;\n",
              "    }\n",
              "\n",
              "    .colab-df-convert {\n",
              "      background-color: #E8F0FE;\n",
              "      border: none;\n",
              "      border-radius: 50%;\n",
              "      cursor: pointer;\n",
              "      display: none;\n",
              "      fill: #1967D2;\n",
              "      height: 32px;\n",
              "      padding: 0 0 0 0;\n",
              "      width: 32px;\n",
              "    }\n",
              "\n",
              "    .colab-df-convert:hover {\n",
              "      background-color: #E2EBFA;\n",
              "      box-shadow: 0px 1px 2px rgba(60, 64, 67, 0.3), 0px 1px 3px 1px rgba(60, 64, 67, 0.15);\n",
              "      fill: #174EA6;\n",
              "    }\n",
              "\n",
              "    [theme=dark] .colab-df-convert {\n",
              "      background-color: #3B4455;\n",
              "      fill: #D2E3FC;\n",
              "    }\n",
              "\n",
              "    [theme=dark] .colab-df-convert:hover {\n",
              "      background-color: #434B5C;\n",
              "      box-shadow: 0px 1px 3px 1px rgba(0, 0, 0, 0.15);\n",
              "      filter: drop-shadow(0px 1px 2px rgba(0, 0, 0, 0.3));\n",
              "      fill: #FFFFFF;\n",
              "    }\n",
              "  </style>\n",
              "\n",
              "      <script>\n",
              "        const buttonEl =\n",
              "          document.querySelector('#df-08dde7c9-68eb-411c-ab1a-d04da7a2f931 button.colab-df-convert');\n",
              "        buttonEl.style.display =\n",
              "          google.colab.kernel.accessAllowed ? 'block' : 'none';\n",
              "\n",
              "        async function convertToInteractive(key) {\n",
              "          const element = document.querySelector('#df-08dde7c9-68eb-411c-ab1a-d04da7a2f931');\n",
              "          const dataTable =\n",
              "            await google.colab.kernel.invokeFunction('convertToInteractive',\n",
              "                                                     [key], {});\n",
              "          if (!dataTable) return;\n",
              "\n",
              "          const docLinkHtml = 'Like what you see? Visit the ' +\n",
              "            '<a target=\"_blank\" href=https://colab.research.google.com/notebooks/data_table.ipynb>data table notebook</a>'\n",
              "            + ' to learn more about interactive tables.';\n",
              "          element.innerHTML = '';\n",
              "          dataTable['output_type'] = 'display_data';\n",
              "          await google.colab.output.renderOutput(dataTable, element);\n",
              "          const docLink = document.createElement('div');\n",
              "          docLink.innerHTML = docLinkHtml;\n",
              "          element.appendChild(docLink);\n",
              "        }\n",
              "      </script>\n",
              "    </div>\n",
              "  </div>\n",
              "  "
            ]
          },
          "metadata": {},
          "execution_count": 355
        }
      ],
      "source": [
        "df2.head()"
      ]
    },
    {
      "cell_type": "code",
      "execution_count": null,
      "metadata": {
        "id": "f6PxRsojdMMk",
        "colab": {
          "base_uri": "https://localhost:8080/",
          "height": 389
        },
        "outputId": "e4a02f6b-6b7c-4b54-c5f1-944d48a9e578"
      },
      "outputs": [
        {
          "output_type": "execute_result",
          "data": {
            "text/plain": [
              "   Prospect ID  Year of Graduation     Allocation Subcategory          City  \\\n",
              "0         1515                1970         College of Nursing  Cedar Rapids   \n",
              "1         1515                1970  College of Social Science  Cedar Rapids   \n",
              "2         1588                1992              Trustees Fund        Denver   \n",
              "3         1588                1992   Faculty Chair Endowments        Denver   \n",
              "4         2508                1984       University Libraries         Salem   \n",
              "\n",
              "                        College  Gift Allocation  Gift Amount  Gift Date  \\\n",
              "0  College of Arts and Sciences      Scholarship       4461.0  6/19/2015   \n",
              "1  College of Arts and Sciences      Scholarship       4461.0  8/12/2015   \n",
              "2  College of Arts and Sciences        Endowment      13408.5  10/9/2011   \n",
              "3  College of Arts and Sciences        Endowment      13408.5   7/5/2015   \n",
              "4              College of Music  Campus Resource       5309.0  3/24/2011   \n",
              "\n",
              "                    Major State  \n",
              "0  Arts & Letters-General    IA  \n",
              "1  Arts & Letters-General    IA  \n",
              "2                 Chinese    CO  \n",
              "3                 Chinese    CO  \n",
              "4            Jazz Studies    OR  "
            ],
            "text/html": [
              "\n",
              "  <div id=\"df-258a00bc-a562-4a7b-aa57-453e2e104f89\">\n",
              "    <div class=\"colab-df-container\">\n",
              "      <div>\n",
              "<style scoped>\n",
              "    .dataframe tbody tr th:only-of-type {\n",
              "        vertical-align: middle;\n",
              "    }\n",
              "\n",
              "    .dataframe tbody tr th {\n",
              "        vertical-align: top;\n",
              "    }\n",
              "\n",
              "    .dataframe thead th {\n",
              "        text-align: right;\n",
              "    }\n",
              "</style>\n",
              "<table border=\"1\" class=\"dataframe\">\n",
              "  <thead>\n",
              "    <tr style=\"text-align: right;\">\n",
              "      <th></th>\n",
              "      <th>Prospect ID</th>\n",
              "      <th>Year of Graduation</th>\n",
              "      <th>Allocation Subcategory</th>\n",
              "      <th>City</th>\n",
              "      <th>College</th>\n",
              "      <th>Gift Allocation</th>\n",
              "      <th>Gift Amount</th>\n",
              "      <th>Gift Date</th>\n",
              "      <th>Major</th>\n",
              "      <th>State</th>\n",
              "    </tr>\n",
              "  </thead>\n",
              "  <tbody>\n",
              "    <tr>\n",
              "      <th>0</th>\n",
              "      <td>1515</td>\n",
              "      <td>1970</td>\n",
              "      <td>College of Nursing</td>\n",
              "      <td>Cedar Rapids</td>\n",
              "      <td>College of Arts and Sciences</td>\n",
              "      <td>Scholarship</td>\n",
              "      <td>4461.0</td>\n",
              "      <td>6/19/2015</td>\n",
              "      <td>Arts &amp; Letters-General</td>\n",
              "      <td>IA</td>\n",
              "    </tr>\n",
              "    <tr>\n",
              "      <th>1</th>\n",
              "      <td>1515</td>\n",
              "      <td>1970</td>\n",
              "      <td>College of Social Science</td>\n",
              "      <td>Cedar Rapids</td>\n",
              "      <td>College of Arts and Sciences</td>\n",
              "      <td>Scholarship</td>\n",
              "      <td>4461.0</td>\n",
              "      <td>8/12/2015</td>\n",
              "      <td>Arts &amp; Letters-General</td>\n",
              "      <td>IA</td>\n",
              "    </tr>\n",
              "    <tr>\n",
              "      <th>2</th>\n",
              "      <td>1588</td>\n",
              "      <td>1992</td>\n",
              "      <td>Trustees Fund</td>\n",
              "      <td>Denver</td>\n",
              "      <td>College of Arts and Sciences</td>\n",
              "      <td>Endowment</td>\n",
              "      <td>13408.5</td>\n",
              "      <td>10/9/2011</td>\n",
              "      <td>Chinese</td>\n",
              "      <td>CO</td>\n",
              "    </tr>\n",
              "    <tr>\n",
              "      <th>3</th>\n",
              "      <td>1588</td>\n",
              "      <td>1992</td>\n",
              "      <td>Faculty Chair Endowments</td>\n",
              "      <td>Denver</td>\n",
              "      <td>College of Arts and Sciences</td>\n",
              "      <td>Endowment</td>\n",
              "      <td>13408.5</td>\n",
              "      <td>7/5/2015</td>\n",
              "      <td>Chinese</td>\n",
              "      <td>CO</td>\n",
              "    </tr>\n",
              "    <tr>\n",
              "      <th>4</th>\n",
              "      <td>2508</td>\n",
              "      <td>1984</td>\n",
              "      <td>University Libraries</td>\n",
              "      <td>Salem</td>\n",
              "      <td>College of Music</td>\n",
              "      <td>Campus Resource</td>\n",
              "      <td>5309.0</td>\n",
              "      <td>3/24/2011</td>\n",
              "      <td>Jazz Studies</td>\n",
              "      <td>OR</td>\n",
              "    </tr>\n",
              "  </tbody>\n",
              "</table>\n",
              "</div>\n",
              "      <button class=\"colab-df-convert\" onclick=\"convertToInteractive('df-258a00bc-a562-4a7b-aa57-453e2e104f89')\"\n",
              "              title=\"Convert this dataframe to an interactive table.\"\n",
              "              style=\"display:none;\">\n",
              "        \n",
              "  <svg xmlns=\"http://www.w3.org/2000/svg\" height=\"24px\"viewBox=\"0 0 24 24\"\n",
              "       width=\"24px\">\n",
              "    <path d=\"M0 0h24v24H0V0z\" fill=\"none\"/>\n",
              "    <path d=\"M18.56 5.44l.94 2.06.94-2.06 2.06-.94-2.06-.94-.94-2.06-.94 2.06-2.06.94zm-11 1L8.5 8.5l.94-2.06 2.06-.94-2.06-.94L8.5 2.5l-.94 2.06-2.06.94zm10 10l.94 2.06.94-2.06 2.06-.94-2.06-.94-.94-2.06-.94 2.06-2.06.94z\"/><path d=\"M17.41 7.96l-1.37-1.37c-.4-.4-.92-.59-1.43-.59-.52 0-1.04.2-1.43.59L10.3 9.45l-7.72 7.72c-.78.78-.78 2.05 0 2.83L4 21.41c.39.39.9.59 1.41.59.51 0 1.02-.2 1.41-.59l7.78-7.78 2.81-2.81c.8-.78.8-2.07 0-2.86zM5.41 20L4 18.59l7.72-7.72 1.47 1.35L5.41 20z\"/>\n",
              "  </svg>\n",
              "      </button>\n",
              "      \n",
              "  <style>\n",
              "    .colab-df-container {\n",
              "      display:flex;\n",
              "      flex-wrap:wrap;\n",
              "      gap: 12px;\n",
              "    }\n",
              "\n",
              "    .colab-df-convert {\n",
              "      background-color: #E8F0FE;\n",
              "      border: none;\n",
              "      border-radius: 50%;\n",
              "      cursor: pointer;\n",
              "      display: none;\n",
              "      fill: #1967D2;\n",
              "      height: 32px;\n",
              "      padding: 0 0 0 0;\n",
              "      width: 32px;\n",
              "    }\n",
              "\n",
              "    .colab-df-convert:hover {\n",
              "      background-color: #E2EBFA;\n",
              "      box-shadow: 0px 1px 2px rgba(60, 64, 67, 0.3), 0px 1px 3px 1px rgba(60, 64, 67, 0.15);\n",
              "      fill: #174EA6;\n",
              "    }\n",
              "\n",
              "    [theme=dark] .colab-df-convert {\n",
              "      background-color: #3B4455;\n",
              "      fill: #D2E3FC;\n",
              "    }\n",
              "\n",
              "    [theme=dark] .colab-df-convert:hover {\n",
              "      background-color: #434B5C;\n",
              "      box-shadow: 0px 1px 3px 1px rgba(0, 0, 0, 0.15);\n",
              "      filter: drop-shadow(0px 1px 2px rgba(0, 0, 0, 0.3));\n",
              "      fill: #FFFFFF;\n",
              "    }\n",
              "  </style>\n",
              "\n",
              "      <script>\n",
              "        const buttonEl =\n",
              "          document.querySelector('#df-258a00bc-a562-4a7b-aa57-453e2e104f89 button.colab-df-convert');\n",
              "        buttonEl.style.display =\n",
              "          google.colab.kernel.accessAllowed ? 'block' : 'none';\n",
              "\n",
              "        async function convertToInteractive(key) {\n",
              "          const element = document.querySelector('#df-258a00bc-a562-4a7b-aa57-453e2e104f89');\n",
              "          const dataTable =\n",
              "            await google.colab.kernel.invokeFunction('convertToInteractive',\n",
              "                                                     [key], {});\n",
              "          if (!dataTable) return;\n",
              "\n",
              "          const docLinkHtml = 'Like what you see? Visit the ' +\n",
              "            '<a target=\"_blank\" href=https://colab.research.google.com/notebooks/data_table.ipynb>data table notebook</a>'\n",
              "            + ' to learn more about interactive tables.';\n",
              "          element.innerHTML = '';\n",
              "          dataTable['output_type'] = 'display_data';\n",
              "          await google.colab.output.renderOutput(dataTable, element);\n",
              "          const docLink = document.createElement('div');\n",
              "          docLink.innerHTML = docLinkHtml;\n",
              "          element.appendChild(docLink);\n",
              "        }\n",
              "      </script>\n",
              "    </div>\n",
              "  </div>\n",
              "  "
            ]
          },
          "metadata": {},
          "execution_count": 356
        }
      ],
      "source": [
        "#Join the CSV files on the Prospect ID column\n",
        "\n",
        "result = pd.merge(df1, df2, on='Prospect ID')\n",
        "result.head()"
      ]
    },
    {
      "cell_type": "code",
      "execution_count": null,
      "metadata": {
        "id": "Mg7YdLo_497U",
        "colab": {
          "base_uri": "https://localhost:8080/"
        },
        "outputId": "3dec4db7-d9bc-443c-d948-7ce132287b9d"
      },
      "outputs": [
        {
          "output_type": "execute_result",
          "data": {
            "text/plain": [
              "(3913, 10)"
            ]
          },
          "metadata": {},
          "execution_count": 357
        }
      ],
      "source": [
        "result.shape"
      ]
    },
    {
      "cell_type": "code",
      "execution_count": null,
      "metadata": {
        "id": "ufAH81sH7FqM"
      },
      "outputs": [],
      "source": [
        "#There are 3913 rows and 10 columns"
      ]
    },
    {
      "cell_type": "code",
      "execution_count": null,
      "metadata": {
        "id": "hxXr7_9Rkg7Q",
        "colab": {
          "base_uri": "https://localhost:8080/",
          "height": 300
        },
        "outputId": "05cb7c35-e18f-44c7-970b-c780ad7af70c"
      },
      "outputs": [
        {
          "output_type": "execute_result",
          "data": {
            "text/plain": [
              "       Prospect ID  Year of Graduation    Gift Amount\n",
              "count  3913.000000         3913.000000    3913.000000\n",
              "mean   2044.888065         1987.814976    6305.330181\n",
              "std     622.801170            8.843418    9234.829982\n",
              "min    1000.000000         1960.000000       8.000000\n",
              "25%    1496.000000         1983.000000    2775.000000\n",
              "50%    1957.000000         1989.000000    5718.000000\n",
              "75%    2560.000000         1994.000000    8519.000000\n",
              "max    3319.000000         2009.000000  455821.000000"
            ],
            "text/html": [
              "\n",
              "  <div id=\"df-a73a81f0-4a52-44f0-bcf8-bb19e46774d3\">\n",
              "    <div class=\"colab-df-container\">\n",
              "      <div>\n",
              "<style scoped>\n",
              "    .dataframe tbody tr th:only-of-type {\n",
              "        vertical-align: middle;\n",
              "    }\n",
              "\n",
              "    .dataframe tbody tr th {\n",
              "        vertical-align: top;\n",
              "    }\n",
              "\n",
              "    .dataframe thead th {\n",
              "        text-align: right;\n",
              "    }\n",
              "</style>\n",
              "<table border=\"1\" class=\"dataframe\">\n",
              "  <thead>\n",
              "    <tr style=\"text-align: right;\">\n",
              "      <th></th>\n",
              "      <th>Prospect ID</th>\n",
              "      <th>Year of Graduation</th>\n",
              "      <th>Gift Amount</th>\n",
              "    </tr>\n",
              "  </thead>\n",
              "  <tbody>\n",
              "    <tr>\n",
              "      <th>count</th>\n",
              "      <td>3913.000000</td>\n",
              "      <td>3913.000000</td>\n",
              "      <td>3913.000000</td>\n",
              "    </tr>\n",
              "    <tr>\n",
              "      <th>mean</th>\n",
              "      <td>2044.888065</td>\n",
              "      <td>1987.814976</td>\n",
              "      <td>6305.330181</td>\n",
              "    </tr>\n",
              "    <tr>\n",
              "      <th>std</th>\n",
              "      <td>622.801170</td>\n",
              "      <td>8.843418</td>\n",
              "      <td>9234.829982</td>\n",
              "    </tr>\n",
              "    <tr>\n",
              "      <th>min</th>\n",
              "      <td>1000.000000</td>\n",
              "      <td>1960.000000</td>\n",
              "      <td>8.000000</td>\n",
              "    </tr>\n",
              "    <tr>\n",
              "      <th>25%</th>\n",
              "      <td>1496.000000</td>\n",
              "      <td>1983.000000</td>\n",
              "      <td>2775.000000</td>\n",
              "    </tr>\n",
              "    <tr>\n",
              "      <th>50%</th>\n",
              "      <td>1957.000000</td>\n",
              "      <td>1989.000000</td>\n",
              "      <td>5718.000000</td>\n",
              "    </tr>\n",
              "    <tr>\n",
              "      <th>75%</th>\n",
              "      <td>2560.000000</td>\n",
              "      <td>1994.000000</td>\n",
              "      <td>8519.000000</td>\n",
              "    </tr>\n",
              "    <tr>\n",
              "      <th>max</th>\n",
              "      <td>3319.000000</td>\n",
              "      <td>2009.000000</td>\n",
              "      <td>455821.000000</td>\n",
              "    </tr>\n",
              "  </tbody>\n",
              "</table>\n",
              "</div>\n",
              "      <button class=\"colab-df-convert\" onclick=\"convertToInteractive('df-a73a81f0-4a52-44f0-bcf8-bb19e46774d3')\"\n",
              "              title=\"Convert this dataframe to an interactive table.\"\n",
              "              style=\"display:none;\">\n",
              "        \n",
              "  <svg xmlns=\"http://www.w3.org/2000/svg\" height=\"24px\"viewBox=\"0 0 24 24\"\n",
              "       width=\"24px\">\n",
              "    <path d=\"M0 0h24v24H0V0z\" fill=\"none\"/>\n",
              "    <path d=\"M18.56 5.44l.94 2.06.94-2.06 2.06-.94-2.06-.94-.94-2.06-.94 2.06-2.06.94zm-11 1L8.5 8.5l.94-2.06 2.06-.94-2.06-.94L8.5 2.5l-.94 2.06-2.06.94zm10 10l.94 2.06.94-2.06 2.06-.94-2.06-.94-.94-2.06-.94 2.06-2.06.94z\"/><path d=\"M17.41 7.96l-1.37-1.37c-.4-.4-.92-.59-1.43-.59-.52 0-1.04.2-1.43.59L10.3 9.45l-7.72 7.72c-.78.78-.78 2.05 0 2.83L4 21.41c.39.39.9.59 1.41.59.51 0 1.02-.2 1.41-.59l7.78-7.78 2.81-2.81c.8-.78.8-2.07 0-2.86zM5.41 20L4 18.59l7.72-7.72 1.47 1.35L5.41 20z\"/>\n",
              "  </svg>\n",
              "      </button>\n",
              "      \n",
              "  <style>\n",
              "    .colab-df-container {\n",
              "      display:flex;\n",
              "      flex-wrap:wrap;\n",
              "      gap: 12px;\n",
              "    }\n",
              "\n",
              "    .colab-df-convert {\n",
              "      background-color: #E8F0FE;\n",
              "      border: none;\n",
              "      border-radius: 50%;\n",
              "      cursor: pointer;\n",
              "      display: none;\n",
              "      fill: #1967D2;\n",
              "      height: 32px;\n",
              "      padding: 0 0 0 0;\n",
              "      width: 32px;\n",
              "    }\n",
              "\n",
              "    .colab-df-convert:hover {\n",
              "      background-color: #E2EBFA;\n",
              "      box-shadow: 0px 1px 2px rgba(60, 64, 67, 0.3), 0px 1px 3px 1px rgba(60, 64, 67, 0.15);\n",
              "      fill: #174EA6;\n",
              "    }\n",
              "\n",
              "    [theme=dark] .colab-df-convert {\n",
              "      background-color: #3B4455;\n",
              "      fill: #D2E3FC;\n",
              "    }\n",
              "\n",
              "    [theme=dark] .colab-df-convert:hover {\n",
              "      background-color: #434B5C;\n",
              "      box-shadow: 0px 1px 3px 1px rgba(0, 0, 0, 0.15);\n",
              "      filter: drop-shadow(0px 1px 2px rgba(0, 0, 0, 0.3));\n",
              "      fill: #FFFFFF;\n",
              "    }\n",
              "  </style>\n",
              "\n",
              "      <script>\n",
              "        const buttonEl =\n",
              "          document.querySelector('#df-a73a81f0-4a52-44f0-bcf8-bb19e46774d3 button.colab-df-convert');\n",
              "        buttonEl.style.display =\n",
              "          google.colab.kernel.accessAllowed ? 'block' : 'none';\n",
              "\n",
              "        async function convertToInteractive(key) {\n",
              "          const element = document.querySelector('#df-a73a81f0-4a52-44f0-bcf8-bb19e46774d3');\n",
              "          const dataTable =\n",
              "            await google.colab.kernel.invokeFunction('convertToInteractive',\n",
              "                                                     [key], {});\n",
              "          if (!dataTable) return;\n",
              "\n",
              "          const docLinkHtml = 'Like what you see? Visit the ' +\n",
              "            '<a target=\"_blank\" href=https://colab.research.google.com/notebooks/data_table.ipynb>data table notebook</a>'\n",
              "            + ' to learn more about interactive tables.';\n",
              "          element.innerHTML = '';\n",
              "          dataTable['output_type'] = 'display_data';\n",
              "          await google.colab.output.renderOutput(dataTable, element);\n",
              "          const docLink = document.createElement('div');\n",
              "          docLink.innerHTML = docLinkHtml;\n",
              "          element.appendChild(docLink);\n",
              "        }\n",
              "      </script>\n",
              "    </div>\n",
              "  </div>\n",
              "  "
            ]
          },
          "metadata": {},
          "execution_count": 359
        }
      ],
      "source": [
        "result.describe()"
      ]
    },
    {
      "cell_type": "code",
      "source": [
        "#checking for missing values\n",
        "plt.figure(figsize=(12,4))\n",
        "sns.heatmap(result.isnull(),cbar=False,cmap='viridis',yticklabels=False)\n",
        "plt.title('Missing value in the dataset');"
      ],
      "metadata": {
        "colab": {
          "base_uri": "https://localhost:8080/",
          "height": 387
        },
        "id": "NRxfTtBam-Eo",
        "outputId": "73e34c20-ffab-489e-b111-6ba161ec7c08"
      },
      "execution_count": null,
      "outputs": [
        {
          "output_type": "display_data",
          "data": {
            "text/plain": [
              "<Figure size 864x288 with 1 Axes>"
            ],
            "image/png": "[encoded data removed]"
          },
          "metadata": {
            "needs_background": "light"
          }
        }
      ]
    },
    {
      "cell_type": "code",
      "execution_count": null,
      "metadata": {
        "id": "mx0J6akfk52h"
      },
      "outputs": [],
      "source": [
        "# Need to one hot encode the rest of the categorical columns\n",
        "# One-hot encode the specified columns\n",
        "result = pd.get_dummies(result, columns=['Allocation Subcategory','City','College','Gift Allocation','Major','State'])"
      ]
    },
    {
      "cell_type": "code",
      "execution_count": null,
      "metadata": {
        "id": "qjhHQmJ-lZGw",
        "colab": {
          "base_uri": "https://localhost:8080/",
          "height": 446
        },
        "outputId": "06c83d78-7da4-42dd-91c0-d1238d1089d5"
      },
      "outputs": [
        {
          "output_type": "execute_result",
          "data": {
            "text/plain": [
              "       Prospect ID  Year of Graduation    Gift Amount  \\\n",
              "count  3913.000000         3913.000000    3913.000000   \n",
              "mean   2044.888065         1987.814976    6305.330181   \n",
              "std     622.801170            8.843418    9234.829982   \n",
              "min    1000.000000         1960.000000       8.000000   \n",
              "25%    1496.000000         1983.000000    2775.000000   \n",
              "50%    1957.000000         1989.000000    5718.000000   \n",
              "75%    2560.000000         1994.000000    8519.000000   \n",
              "max    3319.000000         2009.000000  455821.000000   \n",
              "\n",
              "       Allocation Subcategory_Alumni Association  \\\n",
              "count                                3913.000000   \n",
              "mean                                    0.029389   \n",
              "std                                     0.168916   \n",
              "min                                     0.000000   \n",
              "25%                                     0.000000   \n",
              "50%                                     0.000000   \n",
              "75%                                     0.000000   \n",
              "max                                     1.000000   \n",
              "\n",
              "       Allocation Subcategory_Athletics  \\\n",
              "count                       3913.000000   \n",
              "mean                           0.029645   \n",
              "std                            0.169627   \n",
              "min                            0.000000   \n",
              "25%                            0.000000   \n",
              "50%                            0.000000   \n",
              "75%                            0.000000   \n",
              "max                            1.000000   \n",
              "\n",
              "       Allocation Subcategory_Campus Museums  \\\n",
              "count                            3913.000000   \n",
              "mean                                0.028623   \n",
              "std                                 0.166764   \n",
              "min                                 0.000000   \n",
              "25%                                 0.000000   \n",
              "50%                                 0.000000   \n",
              "75%                                 0.000000   \n",
              "max                                 1.000000   \n",
              "\n",
              "       Allocation Subcategory_Campus Recreation  \\\n",
              "count                               3913.000000   \n",
              "mean                                   0.028111   \n",
              "std                                    0.165312   \n",
              "min                                    0.000000   \n",
              "25%                                    0.000000   \n",
              "50%                                    0.000000   \n",
              "75%                                    0.000000   \n",
              "max                                    1.000000   \n",
              "\n",
              "       Allocation Subcategory_College of Agriculture and Natural Resources  \\\n",
              "count                                        3913.000000                     \n",
              "mean                                            0.054689                     \n",
              "std                                             0.227402                     \n",
              "min                                             0.000000                     \n",
              "25%                                             0.000000                     \n",
              "50%                                             0.000000                     \n",
              "75%                                             0.000000                     \n",
              "max                                             1.000000                     \n",
              "\n",
              "       Allocation Subcategory_College of Arts and Sciences  \\\n",
              "count                                        3913.000000     \n",
              "mean                                            0.074879     \n",
              "std                                             0.263229     \n",
              "min                                             0.000000     \n",
              "25%                                             0.000000     \n",
              "50%                                             0.000000     \n",
              "75%                                             0.000000     \n",
              "max                                             1.000000     \n",
              "\n",
              "       Allocation Subcategory_College of Business  ...     State_PA  \\\n",
              "count                                 3913.000000  ...  3913.000000   \n",
              "mean                                     0.016356  ...     0.014056   \n",
              "std                                      0.126856  ...     0.117736   \n",
              "min                                      0.000000  ...     0.000000   \n",
              "25%                                      0.000000  ...     0.000000   \n",
              "50%                                      0.000000  ...     0.000000   \n",
              "75%                                      0.000000  ...     0.000000   \n",
              "max                                      1.000000  ...     1.000000   \n",
              "\n",
              "         State_RI     State_SC     State_TN     State_TX     State_UT  \\\n",
              "count  3913.00000  3913.000000  3913.000000  3913.000000  3913.000000   \n",
              "mean      0.00690     0.013800     0.027856     0.079990     0.014311   \n",
              "std       0.08279     0.116676     0.164581     0.271312     0.118786   \n",
              "min       0.00000     0.000000     0.000000     0.000000     0.000000   \n",
              "25%       0.00000     0.000000     0.000000     0.000000     0.000000   \n",
              "50%       0.00000     0.000000     0.000000     0.000000     0.000000   \n",
              "75%       0.00000     0.000000     0.000000     0.000000     0.000000   \n",
              "max       1.00000     1.000000     1.000000     1.000000     1.000000   \n",
              "\n",
              "          State_VA     State_WA     State_WI     State_WY  \n",
              "count  3913.000000  3913.000000  3913.000000  3913.000000  \n",
              "mean      0.030411     0.026834     0.008945     0.001278  \n",
              "std       0.171739     0.161618     0.094164     0.035728  \n",
              "min       0.000000     0.000000     0.000000     0.000000  \n",
              "25%       0.000000     0.000000     0.000000     0.000000  \n",
              "50%       0.000000     0.000000     0.000000     0.000000  \n",
              "75%       0.000000     0.000000     0.000000     0.000000  \n",
              "max       1.000000     1.000000     1.000000     1.000000  \n",
              "\n",
              "[8 rows x 298 columns]"
            ],
            "text/html": [
              "\n",
              "  <div id=\"df-c87fae5e-aba6-442d-993f-3075c58db415\">\n",
              "    <div class=\"colab-df-container\">\n",
              "      <div>\n",
              "<style scoped>\n",
              "    .dataframe tbody tr th:only-of-type {\n",
              "        vertical-align: middle;\n",
              "    }\n",
              "\n",
              "    .dataframe tbody tr th {\n",
              "        vertical-align: top;\n",
              "    }\n",
              "\n",
              "    .dataframe thead th {\n",
              "        text-align: right;\n",
              "    }\n",
              "</style>\n",
              "<table border=\"1\" class=\"dataframe\">\n",
              "  <thead>\n",
              "    <tr style=\"text-align: right;\">\n",
              "      <th></th>\n",
              "      <th>Prospect ID</th>\n",
              "      <th>Year of Graduation</th>\n",
              "      <th>Gift Amount</th>\n",
              "      <th>Allocation Subcategory_Alumni Association</th>\n",
              "      <th>Allocation Subcategory_Athletics</th>\n",
              "      <th>Allocation Subcategory_Campus Museums</th>\n",
              "      <th>Allocation Subcategory_Campus Recreation</th>\n",
              "      <th>Allocation Subcategory_College of Agriculture and Natural Resources</th>\n",
              "      <th>Allocation Subcategory_College of Arts and Sciences</th>\n",
              "      <th>Allocation Subcategory_College of Business</th>\n",
              "      <th>...</th>\n",
              "      <th>State_PA</th>\n",
              "      <th>State_RI</th>\n",
              "      <th>State_SC</th>\n",
              "      <th>State_TN</th>\n",
              "      <th>State_TX</th>\n",
              "      <th>State_UT</th>\n",
              "      <th>State_VA</th>\n",
              "      <th>State_WA</th>\n",
              "      <th>State_WI</th>\n",
              "      <th>State_WY</th>\n",
              "    </tr>\n",
              "  </thead>\n",
              "  <tbody>\n",
              "    <tr>\n",
              "      <th>count</th>\n",
              "      <td>3913.000000</td>\n",
              "      <td>3913.000000</td>\n",
              "      <td>3913.000000</td>\n",
              "      <td>3913.000000</td>\n",
              "      <td>3913.000000</td>\n",
              "      <td>3913.000000</td>\n",
              "      <td>3913.000000</td>\n",
              "      <td>3913.000000</td>\n",
              "      <td>3913.000000</td>\n",
              "      <td>3913.000000</td>\n",
              "      <td>...</td>\n",
              "      <td>3913.000000</td>\n",
              "      <td>3913.00000</td>\n",
              "      <td>3913.000000</td>\n",
              "      <td>3913.000000</td>\n",
              "      <td>3913.000000</td>\n",
              "      <td>3913.000000</td>\n",
              "      <td>3913.000000</td>\n",
              "      <td>3913.000000</td>\n",
              "      <td>3913.000000</td>\n",
              "      <td>3913.000000</td>\n",
              "    </tr>\n",
              "    <tr>\n",
              "      <th>mean</th>\n",
              "      <td>2044.888065</td>\n",
              "      <td>1987.814976</td>\n",
              "      <td>6305.330181</td>\n",
              "      <td>0.029389</td>\n",
              "      <td>0.029645</td>\n",
              "      <td>0.028623</td>\n",
              "      <td>0.028111</td>\n",
              "      <td>0.054689</td>\n",
              "      <td>0.074879</td>\n",
              "      <td>0.016356</td>\n",
              "      <td>...</td>\n",
              "      <td>0.014056</td>\n",
              "      <td>0.00690</td>\n",
              "      <td>0.013800</td>\n",
              "      <td>0.027856</td>\n",
              "      <td>0.079990</td>\n",
              "      <td>0.014311</td>\n",
              "      <td>0.030411</td>\n",
              "      <td>0.026834</td>\n",
              "      <td>0.008945</td>\n",
              "      <td>0.001278</td>\n",
              "    </tr>\n",
              "    <tr>\n",
              "      <th>std</th>\n",
              "      <td>622.801170</td>\n",
              "      <td>8.843418</td>\n",
              "      <td>9234.829982</td>\n",
              "      <td>0.168916</td>\n",
              "      <td>0.169627</td>\n",
              "      <td>0.166764</td>\n",
              "      <td>0.165312</td>\n",
              "      <td>0.227402</td>\n",
              "      <td>0.263229</td>\n",
              "      <td>0.126856</td>\n",
              "      <td>...</td>\n",
              "      <td>0.117736</td>\n",
              "      <td>0.08279</td>\n",
              "      <td>0.116676</td>\n",
              "      <td>0.164581</td>\n",
              "      <td>0.271312</td>\n",
              "      <td>0.118786</td>\n",
              "      <td>0.171739</td>\n",
              "      <td>0.161618</td>\n",
              "      <td>0.094164</td>\n",
              "      <td>0.035728</td>\n",
              "    </tr>\n",
              "    <tr>\n",
              "      <th>min</th>\n",
              "      <td>1000.000000</td>\n",
              "      <td>1960.000000</td>\n",
              "      <td>8.000000</td>\n",
              "      <td>0.000000</td>\n",
              "      <td>0.000000</td>\n",
              "      <td>0.000000</td>\n",
              "      <td>0.000000</td>\n",
              "      <td>0.000000</td>\n",
              "      <td>0.000000</td>\n",
              "      <td>0.000000</td>\n",
              "      <td>...</td>\n",
              "      <td>0.000000</td>\n",
              "      <td>0.00000</td>\n",
              "      <td>0.000000</td>\n",
              "      <td>0.000000</td>\n",
              "      <td>0.000000</td>\n",
              "      <td>0.000000</td>\n",
              "      <td>0.000000</td>\n",
              "      <td>0.000000</td>\n",
              "      <td>0.000000</td>\n",
              "      <td>0.000000</td>\n",
              "    </tr>\n",
              "    <tr>\n",
              "      <th>25%</th>\n",
              "      <td>1496.000000</td>\n",
              "      <td>1983.000000</td>\n",
              "      <td>2775.000000</td>\n",
              "      <td>0.000000</td>\n",
              "      <td>0.000000</td>\n",
              "      <td>0.000000</td>\n",
              "      <td>0.000000</td>\n",
              "      <td>0.000000</td>\n",
              "      <td>0.000000</td>\n",
              "      <td>0.000000</td>\n",
              "      <td>...</td>\n",
              "      <td>0.000000</td>\n",
              "      <td>0.00000</td>\n",
              "      <td>0.000000</td>\n",
              "      <td>0.000000</td>\n",
              "      <td>0.000000</td>\n",
              "      <td>0.000000</td>\n",
              "      <td>0.000000</td>\n",
              "      <td>0.000000</td>\n",
              "      <td>0.000000</td>\n",
              "      <td>0.000000</td>\n",
              "    </tr>\n",
              "    <tr>\n",
              "      <th>50%</th>\n",
              "      <td>1957.000000</td>\n",
              "      <td>1989.000000</td>\n",
              "      <td>5718.000000</td>\n",
              "      <td>0.000000</td>\n",
              "      <td>0.000000</td>\n",
              "      <td>0.000000</td>\n",
              "      <td>0.000000</td>\n",
              "      <td>0.000000</td>\n",
              "      <td>0.000000</td>\n",
              "      <td>0.000000</td>\n",
              "      <td>...</td>\n",
              "      <td>0.000000</td>\n",
              "      <td>0.00000</td>\n",
              "      <td>0.000000</td>\n",
              "      <td>0.000000</td>\n",
              "      <td>0.000000</td>\n",
              "      <td>0.000000</td>\n",
              "      <td>0.000000</td>\n",
              "      <td>0.000000</td>\n",
              "      <td>0.000000</td>\n",
              "      <td>0.000000</td>\n",
              "    </tr>\n",
              "    <tr>\n",
              "      <th>75%</th>\n",
              "      <td>2560.000000</td>\n",
              "      <td>1994.000000</td>\n",
              "      <td>8519.000000</td>\n",
              "      <td>0.000000</td>\n",
              "      <td>0.000000</td>\n",
              "      <td>0.000000</td>\n",
              "      <td>0.000000</td>\n",
              "      <td>0.000000</td>\n",
              "      <td>0.000000</td>\n",
              "      <td>0.000000</td>\n",
              "      <td>...</td>\n",
              "      <td>0.000000</td>\n",
              "      <td>0.00000</td>\n",
              "      <td>0.000000</td>\n",
              "      <td>0.000000</td>\n",
              "      <td>0.000000</td>\n",
              "      <td>0.000000</td>\n",
              "      <td>0.000000</td>\n",
              "      <td>0.000000</td>\n",
              "      <td>0.000000</td>\n",
              "      <td>0.000000</td>\n",
              "    </tr>\n",
              "    <tr>\n",
              "      <th>max</th>\n",
              "      <td>3319.000000</td>\n",
              "      <td>2009.000000</td>\n",
              "      <td>455821.000000</td>\n",
              "      <td>1.000000</td>\n",
              "      <td>1.000000</td>\n",
              "      <td>1.000000</td>\n",
              "      <td>1.000000</td>\n",
              "      <td>1.000000</td>\n",
              "      <td>1.000000</td>\n",
              "      <td>1.000000</td>\n",
              "      <td>...</td>\n",
              "      <td>1.000000</td>\n",
              "      <td>1.00000</td>\n",
              "      <td>1.000000</td>\n",
              "      <td>1.000000</td>\n",
              "      <td>1.000000</td>\n",
              "      <td>1.000000</td>\n",
              "      <td>1.000000</td>\n",
              "      <td>1.000000</td>\n",
              "      <td>1.000000</td>\n",
              "      <td>1.000000</td>\n",
              "    </tr>\n",
              "  </tbody>\n",
              "</table>\n",
              "<p>8 rows × 298 columns</p>\n",
              "</div>\n",
              "      <button class=\"colab-df-convert\" onclick=\"convertToInteractive('df-c87fae5e-aba6-442d-993f-3075c58db415')\"\n",
              "              title=\"Convert this dataframe to an interactive table.\"\n",
              "              style=\"display:none;\">\n",
              "        \n",
              "  <svg xmlns=\"http://www.w3.org/2000/svg\" height=\"24px\"viewBox=\"0 0 24 24\"\n",
              "       width=\"24px\">\n",
              "    <path d=\"M0 0h24v24H0V0z\" fill=\"none\"/>\n",
              "    <path d=\"M18.56 5.44l.94 2.06.94-2.06 2.06-.94-2.06-.94-.94-2.06-.94 2.06-2.06.94zm-11 1L8.5 8.5l.94-2.06 2.06-.94-2.06-.94L8.5 2.5l-.94 2.06-2.06.94zm10 10l.94 2.06.94-2.06 2.06-.94-2.06-.94-.94-2.06-.94 2.06-2.06.94z\"/><path d=\"M17.41 7.96l-1.37-1.37c-.4-.4-.92-.59-1.43-.59-.52 0-1.04.2-1.43.59L10.3 9.45l-7.72 7.72c-.78.78-.78 2.05 0 2.83L4 21.41c.39.39.9.59 1.41.59.51 0 1.02-.2 1.41-.59l7.78-7.78 2.81-2.81c.8-.78.8-2.07 0-2.86zM5.41 20L4 18.59l7.72-7.72 1.47 1.35L5.41 20z\"/>\n",
              "  </svg>\n",
              "      </button>\n",
              "      \n",
              "  <style>\n",
              "    .colab-df-container {\n",
              "      display:flex;\n",
              "      flex-wrap:wrap;\n",
              "      gap: 12px;\n",
              "    }\n",
              "\n",
              "    .colab-df-convert {\n",
              "      background-color: #E8F0FE;\n",
              "      border: none;\n",
              "      border-radius: 50%;\n",
              "      cursor: pointer;\n",
              "      display: none;\n",
              "      fill: #1967D2;\n",
              "      height: 32px;\n",
              "      padding: 0 0 0 0;\n",
              "      width: 32px;\n",
              "    }\n",
              "\n",
              "    .colab-df-convert:hover {\n",
              "      background-color: #E2EBFA;\n",
              "      box-shadow: 0px 1px 2px rgba(60, 64, 67, 0.3), 0px 1px 3px 1px rgba(60, 64, 67, 0.15);\n",
              "      fill: #174EA6;\n",
              "    }\n",
              "\n",
              "    [theme=dark] .colab-df-convert {\n",
              "      background-color: #3B4455;\n",
              "      fill: #D2E3FC;\n",
              "    }\n",
              "\n",
              "    [theme=dark] .colab-df-convert:hover {\n",
              "      background-color: #434B5C;\n",
              "      box-shadow: 0px 1px 3px 1px rgba(0, 0, 0, 0.15);\n",
              "      filter: drop-shadow(0px 1px 2px rgba(0, 0, 0, 0.3));\n",
              "      fill: #FFFFFF;\n",
              "    }\n",
              "  </style>\n",
              "\n",
              "      <script>\n",
              "        const buttonEl =\n",
              "          document.querySelector('#df-c87fae5e-aba6-442d-993f-3075c58db415 button.colab-df-convert');\n",
              "        buttonEl.style.display =\n",
              "          google.colab.kernel.accessAllowed ? 'block' : 'none';\n",
              "\n",
              "        async function convertToInteractive(key) {\n",
              "          const element = document.querySelector('#df-c87fae5e-aba6-442d-993f-3075c58db415');\n",
              "          const dataTable =\n",
              "            await google.colab.kernel.invokeFunction('convertToInteractive',\n",
              "                                                     [key], {});\n",
              "          if (!dataTable) return;\n",
              "\n",
              "          const docLinkHtml = 'Like what you see? Visit the ' +\n",
              "            '<a target=\"_blank\" href=https://colab.research.google.com/notebooks/data_table.ipynb>data table notebook</a>'\n",
              "            + ' to learn more about interactive tables.';\n",
              "          element.innerHTML = '';\n",
              "          dataTable['output_type'] = 'display_data';\n",
              "          await google.colab.output.renderOutput(dataTable, element);\n",
              "          const docLink = document.createElement('div');\n",
              "          docLink.innerHTML = docLinkHtml;\n",
              "          element.appendChild(docLink);\n",
              "        }\n",
              "      </script>\n",
              "    </div>\n",
              "  </div>\n",
              "  "
            ]
          },
          "metadata": {},
          "execution_count": 362
        }
      ],
      "source": [
        "result.describe()"
      ]
    },
    {
      "cell_type": "markdown",
      "metadata": {
        "id": "GkqsFN7hlnBU"
      },
      "source": [
        "298 columns is hard to read so I will check for missing values another way"
      ]
    },
    {
      "cell_type": "markdown",
      "metadata": {
        "id": "08m52A6IoaLH"
      },
      "source": [
        "I need to look at the distribution of my dependant variable Gift Amount"
      ]
    },
    {
      "cell_type": "code",
      "execution_count": null,
      "metadata": {
        "id": "Z9OppSjeogp5",
        "colab": {
          "base_uri": "https://localhost:8080/"
        },
        "outputId": "89d135ab-05e9-462d-cd93-747a156d4655"
      },
      "outputs": [
        {
          "output_type": "execute_result",
          "data": {
            "text/plain": [
              "count    3130.000000\n",
              "mean      399.191384\n",
              "std       148.017082\n",
              "min         1.924666\n",
              "25%       305.347866\n",
              "50%       422.746035\n",
              "75%       499.525060\n",
              "max      1940.150186\n",
              "Name: Gift Amount, dtype: float64"
            ]
          },
          "metadata": {},
          "execution_count": 364
        }
      ],
      "source": [
        "#descriptive statistics summary of Gift Amount\n",
        "train['Gift Amount'].describe()"
      ]
    },
    {
      "cell_type": "code",
      "execution_count": null,
      "metadata": {
        "id": "9ow3wCaAnYez",
        "colab": {
          "base_uri": "https://localhost:8080/",
          "height": 301
        },
        "outputId": "71c5969e-fdea-4db9-a62d-cc7b9e59af25"
      },
      "outputs": [
        {
          "output_type": "display_data",
          "data": {
            "text/plain": [
              "<Figure size 864x288 with 2 Axes>"
            ],
            "image/png": "[encoded data removed]"
          },
          "metadata": {
            "needs_background": "light"
          }
        }
      ],
      "source": [
        "# I need to visualize Gift Amount\n",
        "f= plt.figure(figsize=(12,4))\n",
        "\n",
        "ax=f.add_subplot(121)\n",
        "sns.distplot(result['Gift Amount'],bins=50,color='r',ax=ax)\n",
        "ax.set_title('Distribution of Gift Amounts')\n",
        "\n",
        "ax=f.add_subplot(122)\n",
        "sns.distplot(np.log10(result['Gift Amount']),bins=40,color='b',ax=ax)\n",
        "ax.set_title('Distribution of Gift Amounts in $log$ sacle')\n",
        "ax.set_xscale('log');"
      ]
    },
    {
      "cell_type": "markdown",
      "metadata": {
        "id": "Pl1tRGlDn9qf"
      },
      "source": [
        "The left plot has a really long positive skew but the log scale is also skewed negatively. I need to see if I can transform the data."
      ]
    },
    {
      "cell_type": "code",
      "execution_count": null,
      "metadata": {
        "id": "BG2t6yRoosrn"
      },
      "outputs": [],
      "source": [
        "# Need to transform data. I also tried a few other variations.\n",
        "\n",
        "import numpy as np\n",
        "from scipy.stats import boxcox\n",
        "\n",
        "# Extract the column you want to transform\n",
        "train_column = result['Gift Amount']\n",
        "\n",
        "# Apply the transformation\n",
        "train_column, _ = boxcox(np.sqrt(np.log(train_column)))\n",
        "\n",
        "# Assign the transformed column back to the dataframe\n",
        "result['Gift Amount'] = train_column"
      ]
    },
    {
      "cell_type": "code",
      "execution_count": null,
      "metadata": {
        "id": "idFqBe4Youve",
        "colab": {
          "base_uri": "https://localhost:8080/",
          "height": 301
        },
        "outputId": "b5ea9756-9863-4778-e49e-773748919118"
      },
      "outputs": [
        {
          "output_type": "display_data",
          "data": {
            "text/plain": [
              "<Figure size 864x288 with 2 Axes>"
            ],
            "image/png": "[encoded data removed]"
          },
          "metadata": {
            "needs_background": "light"
          }
        }
      ],
      "source": [
        "# I need to visualize the transformed Gift Amount now\n",
        "f= plt.figure(figsize=(12,4))\n",
        "\n",
        "ax=f.add_subplot(121)\n",
        "sns.distplot(result['Gift Amount'],bins=50,color='r',ax=ax)\n",
        "ax.set_title('Distribution of Gift Amounts')\n",
        "\n",
        "ax=f.add_subplot(122)\n",
        "sns.distplot(np.log10(result['Gift Amount']),bins=40,color='b',ax=ax)\n",
        "ax.set_title('Distribution of Gift Amounts in $log$ sacle')\n",
        "ax.set_xscale('log');"
      ]
    },
    {
      "cell_type": "markdown",
      "metadata": {
        "id": "faChPs7mpfcF"
      },
      "source": [
        "The left distribution looks much better"
      ]
    },
    {
      "cell_type": "code",
      "execution_count": null,
      "metadata": {
        "id": "lHFmHjeG7MC3"
      },
      "outputs": [],
      "source": [
        "#Split the dataset into training and test for analysis\n",
        "#Train is 80% and Test is set to 20%\n",
        "#Set random_state helps with reproducibility by keeping the same split every time the code is run\n",
        "\n",
        "from sklearn.model_selection import train_test_split\n",
        "\n",
        "train, test = train_test_split(result, test_size=0.2, random_state=42)"
      ]
    },
    {
      "cell_type": "code",
      "execution_count": null,
      "metadata": {
        "id": "BoQ9G_iC8Z8A",
        "colab": {
          "base_uri": "https://localhost:8080/"
        },
        "outputId": "9058ca1b-a85a-458e-c3d9-f8c6f30b430c"
      },
      "outputs": [
        {
          "output_type": "execute_result",
          "data": {
            "text/plain": [
              "(3130, 299)"
            ]
          },
          "metadata": {},
          "execution_count": 369
        }
      ],
      "source": [
        "train.shape\n"
      ]
    },
    {
      "cell_type": "code",
      "execution_count": null,
      "metadata": {
        "id": "bKBzn-Ud8iN3",
        "colab": {
          "base_uri": "https://localhost:8080/"
        },
        "outputId": "dc9f39d1-9183-4d63-fc86-732dd34dc9d5"
      },
      "outputs": [
        {
          "output_type": "execute_result",
          "data": {
            "text/plain": [
              "(783, 299)"
            ]
          },
          "metadata": {},
          "execution_count": 370
        }
      ],
      "source": [
        "test.shape"
      ]
    },
    {
      "cell_type": "code",
      "execution_count": null,
      "metadata": {
        "id": "3PEUb5e99SHm",
        "colab": {
          "base_uri": "https://localhost:8080/",
          "height": 352
        },
        "outputId": "31bbea82-909c-4ecf-eb7c-47f89b6556ae"
      },
      "outputs": [
        {
          "output_type": "execute_result",
          "data": {
            "text/plain": [
              "      Prospect ID  Year of Graduation  Gift Amount  Gift Date  \\\n",
              "3209         1604                2000   469.233808  6/26/2015   \n",
              "2359         2569                1973   768.596298   5/3/2013   \n",
              "3762         2538                1989   805.293877  5/29/2013   \n",
              "2132         2616                1990   490.653501  9/28/2012   \n",
              "2392         2843                1962   365.457175  2/26/2014   \n",
              "\n",
              "      Allocation Subcategory_Alumni Association  \\\n",
              "3209                                          0   \n",
              "2359                                          0   \n",
              "3762                                          0   \n",
              "2132                                          0   \n",
              "2392                                          0   \n",
              "\n",
              "      Allocation Subcategory_Athletics  Allocation Subcategory_Campus Museums  \\\n",
              "3209                                 0                                      0   \n",
              "2359                                 0                                      0   \n",
              "3762                                 0                                      0   \n",
              "2132                                 0                                      0   \n",
              "2392                                 0                                      0   \n",
              "\n",
              "      Allocation Subcategory_Campus Recreation  \\\n",
              "3209                                         0   \n",
              "2359                                         0   \n",
              "3762                                         0   \n",
              "2132                                         0   \n",
              "2392                                         0   \n",
              "\n",
              "      Allocation Subcategory_College of Agriculture and Natural Resources  \\\n",
              "3209                                                  0                     \n",
              "2359                                                  0                     \n",
              "3762                                                  0                     \n",
              "2132                                                  0                     \n",
              "2392                                                  0                     \n",
              "\n",
              "      Allocation Subcategory_College of Arts and Sciences  ...  State_PA  \\\n",
              "3209                                                  0    ...         0   \n",
              "2359                                                  0    ...         0   \n",
              "3762                                                  0    ...         0   \n",
              "2132                                                  1    ...         0   \n",
              "2392                                                  0    ...         0   \n",
              "\n",
              "      State_RI  State_SC  State_TN  State_TX  State_UT  State_VA  State_WA  \\\n",
              "3209         0         0         0         0         0         0         0   \n",
              "2359         0         0         0         0         0         0         0   \n",
              "3762         0         0         0         0         0         0         0   \n",
              "2132         0         0         0         0         0         0         0   \n",
              "2392         0         0         0         0         0         0         0   \n",
              "\n",
              "      State_WI  State_WY  \n",
              "3209         0         0  \n",
              "2359         0         0  \n",
              "3762         0         0  \n",
              "2132         0         0  \n",
              "2392         0         0  \n",
              "\n",
              "[5 rows x 299 columns]"
            ],
            "text/html": [
              "\n",
              "  <div id=\"df-56ee7202-e7e3-48e8-a71b-c77926bb52f3\">\n",
              "    <div class=\"colab-df-container\">\n",
              "      <div>\n",
              "<style scoped>\n",
              "    .dataframe tbody tr th:only-of-type {\n",
              "        vertical-align: middle;\n",
              "    }\n",
              "\n",
              "    .dataframe tbody tr th {\n",
              "        vertical-align: top;\n",
              "    }\n",
              "\n",
              "    .dataframe thead th {\n",
              "        text-align: right;\n",
              "    }\n",
              "</style>\n",
              "<table border=\"1\" class=\"dataframe\">\n",
              "  <thead>\n",
              "    <tr style=\"text-align: right;\">\n",
              "      <th></th>\n",
              "      <th>Prospect ID</th>\n",
              "      <th>Year of Graduation</th>\n",
              "      <th>Gift Amount</th>\n",
              "      <th>Gift Date</th>\n",
              "      <th>Allocation Subcategory_Alumni Association</th>\n",
              "      <th>Allocation Subcategory_Athletics</th>\n",
              "      <th>Allocation Subcategory_Campus Museums</th>\n",
              "      <th>Allocation Subcategory_Campus Recreation</th>\n",
              "      <th>Allocation Subcategory_College of Agriculture and Natural Resources</th>\n",
              "      <th>Allocation Subcategory_College of Arts and Sciences</th>\n",
              "      <th>...</th>\n",
              "      <th>State_PA</th>\n",
              "      <th>State_RI</th>\n",
              "      <th>State_SC</th>\n",
              "      <th>State_TN</th>\n",
              "      <th>State_TX</th>\n",
              "      <th>State_UT</th>\n",
              "      <th>State_VA</th>\n",
              "      <th>State_WA</th>\n",
              "      <th>State_WI</th>\n",
              "      <th>State_WY</th>\n",
              "    </tr>\n",
              "  </thead>\n",
              "  <tbody>\n",
              "    <tr>\n",
              "      <th>3209</th>\n",
              "      <td>1604</td>\n",
              "      <td>2000</td>\n",
              "      <td>469.233808</td>\n",
              "      <td>6/26/2015</td>\n",
              "      <td>0</td>\n",
              "      <td>0</td>\n",
              "      <td>0</td>\n",
              "      <td>0</td>\n",
              "      <td>0</td>\n",
              "      <td>0</td>\n",
              "      <td>...</td>\n",
              "      <td>0</td>\n",
              "      <td>0</td>\n",
              "      <td>0</td>\n",
              "      <td>0</td>\n",
              "      <td>0</td>\n",
              "      <td>0</td>\n",
              "      <td>0</td>\n",
              "      <td>0</td>\n",
              "      <td>0</td>\n",
              "      <td>0</td>\n",
              "    </tr>\n",
              "    <tr>\n",
              "      <th>2359</th>\n",
              "      <td>2569</td>\n",
              "      <td>1973</td>\n",
              "      <td>768.596298</td>\n",
              "      <td>5/3/2013</td>\n",
              "      <td>0</td>\n",
              "      <td>0</td>\n",
              "      <td>0</td>\n",
              "      <td>0</td>\n",
              "      <td>0</td>\n",
              "      <td>0</td>\n",
              "      <td>...</td>\n",
              "      <td>0</td>\n",
              "      <td>0</td>\n",
              "      <td>0</td>\n",
              "      <td>0</td>\n",
              "      <td>0</td>\n",
              "      <td>0</td>\n",
              "      <td>0</td>\n",
              "      <td>0</td>\n",
              "      <td>0</td>\n",
              "      <td>0</td>\n",
              "    </tr>\n",
              "    <tr>\n",
              "      <th>3762</th>\n",
              "      <td>2538</td>\n",
              "      <td>1989</td>\n",
              "      <td>805.293877</td>\n",
              "      <td>5/29/2013</td>\n",
              "      <td>0</td>\n",
              "      <td>0</td>\n",
              "      <td>0</td>\n",
              "      <td>0</td>\n",
              "      <td>0</td>\n",
              "      <td>0</td>\n",
              "      <td>...</td>\n",
              "      <td>0</td>\n",
              "      <td>0</td>\n",
              "      <td>0</td>\n",
              "      <td>0</td>\n",
              "      <td>0</td>\n",
              "      <td>0</td>\n",
              "      <td>0</td>\n",
              "      <td>0</td>\n",
              "      <td>0</td>\n",
              "      <td>0</td>\n",
              "    </tr>\n",
              "    <tr>\n",
              "      <th>2132</th>\n",
              "      <td>2616</td>\n",
              "      <td>1990</td>\n",
              "      <td>490.653501</td>\n",
              "      <td>9/28/2012</td>\n",
              "      <td>0</td>\n",
              "      <td>0</td>\n",
              "      <td>0</td>\n",
              "      <td>0</td>\n",
              "      <td>0</td>\n",
              "      <td>1</td>\n",
              "      <td>...</td>\n",
              "      <td>0</td>\n",
              "      <td>0</td>\n",
              "      <td>0</td>\n",
              "      <td>0</td>\n",
              "      <td>0</td>\n",
              "      <td>0</td>\n",
              "      <td>0</td>\n",
              "      <td>0</td>\n",
              "      <td>0</td>\n",
              "      <td>0</td>\n",
              "    </tr>\n",
              "    <tr>\n",
              "      <th>2392</th>\n",
              "      <td>2843</td>\n",
              "      <td>1962</td>\n",
              "      <td>365.457175</td>\n",
              "      <td>2/26/2014</td>\n",
              "      <td>0</td>\n",
              "      <td>0</td>\n",
              "      <td>0</td>\n",
              "      <td>0</td>\n",
              "      <td>0</td>\n",
              "      <td>0</td>\n",
              "      <td>...</td>\n",
              "      <td>0</td>\n",
              "      <td>0</td>\n",
              "      <td>0</td>\n",
              "      <td>0</td>\n",
              "      <td>0</td>\n",
              "      <td>0</td>\n",
              "      <td>0</td>\n",
              "      <td>0</td>\n",
              "      <td>0</td>\n",
              "      <td>0</td>\n",
              "    </tr>\n",
              "  </tbody>\n",
              "</table>\n",
              "<p>5 rows × 299 columns</p>\n",
              "</div>\n",
              "      <button class=\"colab-df-convert\" onclick=\"convertToInteractive('df-56ee7202-e7e3-48e8-a71b-c77926bb52f3')\"\n",
              "              title=\"Convert this dataframe to an interactive table.\"\n",
              "              style=\"display:none;\">\n",
              "        \n",
              "  <svg xmlns=\"http://www.w3.org/2000/svg\" height=\"24px\"viewBox=\"0 0 24 24\"\n",
              "       width=\"24px\">\n",
              "    <path d=\"M0 0h24v24H0V0z\" fill=\"none\"/>\n",
              "    <path d=\"M18.56 5.44l.94 2.06.94-2.06 2.06-.94-2.06-.94-.94-2.06-.94 2.06-2.06.94zm-11 1L8.5 8.5l.94-2.06 2.06-.94-2.06-.94L8.5 2.5l-.94 2.06-2.06.94zm10 10l.94 2.06.94-2.06 2.06-.94-2.06-.94-.94-2.06-.94 2.06-2.06.94z\"/><path d=\"M17.41 7.96l-1.37-1.37c-.4-.4-.92-.59-1.43-.59-.52 0-1.04.2-1.43.59L10.3 9.45l-7.72 7.72c-.78.78-.78 2.05 0 2.83L4 21.41c.39.39.9.59 1.41.59.51 0 1.02-.2 1.41-.59l7.78-7.78 2.81-2.81c.8-.78.8-2.07 0-2.86zM5.41 20L4 18.59l7.72-7.72 1.47 1.35L5.41 20z\"/>\n",
              "  </svg>\n",
              "      </button>\n",
              "      \n",
              "  <style>\n",
              "    .colab-df-container {\n",
              "      display:flex;\n",
              "      flex-wrap:wrap;\n",
              "      gap: 12px;\n",
              "    }\n",
              "\n",
              "    .colab-df-convert {\n",
              "      background-color: #E8F0FE;\n",
              "      border: none;\n",
              "      border-radius: 50%;\n",
              "      cursor: pointer;\n",
              "      display: none;\n",
              "      fill: #1967D2;\n",
              "      height: 32px;\n",
              "      padding: 0 0 0 0;\n",
              "      width: 32px;\n",
              "    }\n",
              "\n",
              "    .colab-df-convert:hover {\n",
              "      background-color: #E2EBFA;\n",
              "      box-shadow: 0px 1px 2px rgba(60, 64, 67, 0.3), 0px 1px 3px 1px rgba(60, 64, 67, 0.15);\n",
              "      fill: #174EA6;\n",
              "    }\n",
              "\n",
              "    [theme=dark] .colab-df-convert {\n",
              "      background-color: #3B4455;\n",
              "      fill: #D2E3FC;\n",
              "    }\n",
              "\n",
              "    [theme=dark] .colab-df-convert:hover {\n",
              "      background-color: #434B5C;\n",
              "      box-shadow: 0px 1px 3px 1px rgba(0, 0, 0, 0.15);\n",
              "      filter: drop-shadow(0px 1px 2px rgba(0, 0, 0, 0.3));\n",
              "      fill: #FFFFFF;\n",
              "    }\n",
              "  </style>\n",
              "\n",
              "      <script>\n",
              "        const buttonEl =\n",
              "          document.querySelector('#df-56ee7202-e7e3-48e8-a71b-c77926bb52f3 button.colab-df-convert');\n",
              "        buttonEl.style.display =\n",
              "          google.colab.kernel.accessAllowed ? 'block' : 'none';\n",
              "\n",
              "        async function convertToInteractive(key) {\n",
              "          const element = document.querySelector('#df-56ee7202-e7e3-48e8-a71b-c77926bb52f3');\n",
              "          const dataTable =\n",
              "            await google.colab.kernel.invokeFunction('convertToInteractive',\n",
              "                                                     [key], {});\n",
              "          if (!dataTable) return;\n",
              "\n",
              "          const docLinkHtml = 'Like what you see? Visit the ' +\n",
              "            '<a target=\"_blank\" href=https://colab.research.google.com/notebooks/data_table.ipynb>data table notebook</a>'\n",
              "            + ' to learn more about interactive tables.';\n",
              "          element.innerHTML = '';\n",
              "          dataTable['output_type'] = 'display_data';\n",
              "          await google.colab.output.renderOutput(dataTable, element);\n",
              "          const docLink = document.createElement('div');\n",
              "          docLink.innerHTML = docLinkHtml;\n",
              "          element.appendChild(docLink);\n",
              "        }\n",
              "      </script>\n",
              "    </div>\n",
              "  </div>\n",
              "  "
            ]
          },
          "metadata": {},
          "execution_count": 371
        }
      ],
      "source": [
        "train.head()"
      ]
    },
    {
      "cell_type": "markdown",
      "metadata": {
        "id": "z14YQ49gp0Ml"
      },
      "source": [
        "Distribution looks pretty good."
      ]
    },
    {
      "cell_type": "code",
      "execution_count": null,
      "metadata": {
        "id": "MHvd0kuX9U3Z",
        "colab": {
          "base_uri": "https://localhost:8080/"
        },
        "outputId": "6f09e349-9bcd-489a-cd12-4c12a3c97c9f"
      },
      "outputs": [
        {
          "output_type": "execute_result",
          "data": {
            "text/plain": [
              "count    3130.000000\n",
              "mean      399.191384\n",
              "std       148.017082\n",
              "min         1.924666\n",
              "25%       305.347866\n",
              "50%       422.746035\n",
              "75%       499.525060\n",
              "max      1940.150186\n",
              "Name: Gift Amount, dtype: float64"
            ]
          },
          "metadata": {},
          "execution_count": 372
        }
      ],
      "source": [
        "#descriptive statistics summary of Gift Amount\n",
        "train['Gift Amount'].describe()"
      ]
    },
    {
      "cell_type": "code",
      "execution_count": null,
      "metadata": {
        "id": "OcZHwh8eCSzX",
        "colab": {
          "base_uri": "https://localhost:8080/",
          "height": 279
        },
        "outputId": "c2e77fc1-b9be-4f16-acd9-6962481e3830"
      },
      "outputs": [
        {
          "output_type": "display_data",
          "data": {
            "text/plain": [
              "<Figure size 432x288 with 1 Axes>"
            ],
            "image/png": "[encoded data removed]"
          },
          "metadata": {
            "needs_background": "light"
          }
        }
      ],
      "source": [
        "#histogram of Gift Amount\n",
        "sns.distplot(train['Gift Amount']);"
      ]
    },
    {
      "cell_type": "code",
      "execution_count": null,
      "metadata": {
        "id": "04A-NmDCELdj",
        "colab": {
          "base_uri": "https://localhost:8080/"
        },
        "outputId": "e43a4c36-d4ef-48db-c648-7793fb035adb"
      },
      "outputs": [
        {
          "output_type": "stream",
          "name": "stdout",
          "text": [
            "Skewness: 0.237070\n",
            "Kurtosis: 5.037647\n"
          ]
        }
      ],
      "source": [
        "#skewness and kurtosis\n",
        "print(\"Skewness: %f\" % train['Gift Amount'].skew())\n",
        "print(\"Kurtosis: %f\" % train['Gift Amount'].kurt())"
      ]
    },
    {
      "cell_type": "markdown",
      "metadata": {
        "id": "z14YQ49gp0Ml"
      },
      "source": [
        "Distribution looks pretty good."
      ]
    },
    {
      "cell_type": "markdown",
      "metadata": {
        "id": "FzQlMKJh7dao"
      },
      "source": [
        "# Prepping to fit model"
      ]
    },
    {
      "cell_type": "markdown",
      "metadata": {
        "id": "uIH8KjZN7oTI"
      },
      "source": [
        "First, I need to separate out Gift Amount as the dependant variable (train_y and test_y) and all the other columns as train_x and test_x"
      ]
    },
    {
      "cell_type": "code",
      "execution_count": null,
      "metadata": {
        "id": "PsI_UjKsK0YT"
      },
      "outputs": [],
      "source": [
        "#Use Gift Amount as dependant variable (y)\n",
        "train_y = train['Gift Amount']\n",
        "train_x = train.drop(['Gift Amount'],axis=1)\n",
        "test_y = test['Gift Amount']\n",
        "test_x = test.drop(['Gift Amount'], axis=1)\n",
        "\n",
        "# Reset the indices of the dataframes\n",
        "train_x = train_x.reset_index(drop=True)\n",
        "train_y = train_y.reset_index(drop=True)\n",
        "test_x = test_x.reset_index(drop=True)\n",
        "test_y = test_y.reset_index(drop=True)"
      ]
    },
    {
      "cell_type": "code",
      "execution_count": null,
      "metadata": {
        "id": "BoiicCIQ2tZT"
      },
      "outputs": [],
      "source": [
        "# Convert the \"Gift Date\" column to datetime format from string for both train and test sets\n",
        "train_x['Gift Date'] = pd.to_datetime(train_x['Gift Date'])\n",
        "test_x['Gift Date'] = pd.to_datetime(test_x['Gift Date'])\n",
        "\n",
        "# Remove rows with missing values from both dataframes\n",
        "train_x.dropna(subset=['Gift Date'], inplace=True)\n",
        "test_x.dropna(subset=['Gift Date'], inplace=True)\n",
        "\n",
        "# Extract the timestamp from the datetime values and store it as a float for both train and test sets\n",
        "train_x['Gift Date'] = train_x['Gift Date'].apply(lambda x: x.timestamp())\n",
        "test_x['Gift Date'] = test_x['Gift Date'].apply(lambda x: x.timestamp())"
      ]
    },
    {
      "cell_type": "code",
      "source": [
        "# normalize the data using standard deviation and mean to help regressors run more smoothly\n",
        "m = train_x.mean()\n",
        "std = train_x.std()\n",
        "\n",
        "train_x = (train_x - m) / std\n",
        "test_x = (test_x - m) / std"
      ],
      "metadata": {
        "id": "boOgxSpfKlD0"
      },
      "execution_count": null,
      "outputs": []
    },
    {
      "cell_type": "code",
      "execution_count": null,
      "metadata": {
        "id": "Kuh01tSLsZQ6",
        "colab": {
          "base_uri": "https://localhost:8080/"
        },
        "outputId": "24c02956-1f2f-4569-dd4e-dbf8d9d2a6e6"
      },
      "outputs": [
        {
          "output_type": "stream",
          "name": "stdout",
          "text": [
            "(3130, 298)\n",
            "(3130,)\n"
          ]
        }
      ],
      "source": [
        "# make sure both sets are compatible for regression\n",
        "print(train_x.shape)\n",
        "print(train_y.shape)"
      ]
    },
    {
      "cell_type": "markdown",
      "metadata": {
        "id": "68E2pW0P5wdn"
      },
      "source": [
        "# Linear Regression Models"
      ]
    },
    {
      "cell_type": "markdown",
      "source": [
        "### **A. Linear Regression without regularization**"
      ],
      "metadata": {
        "id": "mlumb8ZvNPJs"
      }
    },
    {
      "cell_type": "code",
      "execution_count": null,
      "metadata": {
        "id": "cG56Ded71WlC",
        "colab": {
          "base_uri": "https://localhost:8080/"
        },
        "outputId": "cc250724-8fba-4b80-87bf-110b94cc414e"
      },
      "outputs": [
        {
          "output_type": "execute_result",
          "data": {
            "text/plain": [
              "LinearRegression()"
            ]
          },
          "metadata": {},
          "execution_count": 379
        }
      ],
      "source": [
        "from sklearn.linear_model import LinearRegression\n",
        "# Create a linear regression model\n",
        "model = LinearRegression()\n",
        "\n",
        "# Fit the model to the training data\n",
        "model.fit(train_x, train_y)"
      ]
    },
    {
      "cell_type": "code",
      "source": [
        "# top influencers\n",
        "\n",
        "maxcoef = np.argsort(-np.abs(model.coef_))\n",
        "coef = model.coef_[maxcoef]\n",
        "for i in range(0, 5):\n",
        "    print(\"{:.<025} {:< 010.4e}\".format(result.columns[maxcoef[i]], coef[i]))"
      ],
      "metadata": {
        "colab": {
          "base_uri": "https://localhost:8080/"
        },
        "id": "DfBXITf2L154",
        "outputId": "5e340e46-6fc2-45b1-cd5c-1a56abb5f6c7"
      },
      "execution_count": null,
      "outputs": [
        {
          "output_type": "stream",
          "name": "stdout",
          "text": [
            "State_KY.................  6.0826e+15\n",
            "City_New Haven........... -4.8002e+15\n",
            "City_Austin.............. -4.5783e+15\n",
            "Major_Zoology............  4.0329e+15\n",
            "City_Billings............ -3.4291e+15\n"
          ]
        }
      ]
    },
    {
      "cell_type": "markdown",
      "source": [
        "This looks interesting but it's probably overfitted because of the dummy features. Considering the data is fictional, the city and state results could be due to chance?"
      ],
      "metadata": {
        "id": "JEOgipfkMvRJ"
      }
    },
    {
      "cell_type": "markdown",
      "source": [
        "### **B Linear Regression with L1 regularization**"
      ],
      "metadata": {
        "id": "y6hvXsKXNWgK"
      }
    },
    {
      "cell_type": "code",
      "source": [
        "# Create linear regression object\n",
        "Ls = LassoCV()\n",
        "\n",
        "# Train the model using the training sets\n",
        "Ls.fit(train_x, train_y)"
      ],
      "metadata": {
        "colab": {
          "base_uri": "https://localhost:8080/"
        },
        "id": "CZuuAmI2NhnC",
        "outputId": "bcafd404-41f5-4714-fd14-ff19c95399b5"
      },
      "execution_count": null,
      "outputs": [
        {
          "output_type": "execute_result",
          "data": {
            "text/plain": [
              "LassoCV()"
            ]
          },
          "metadata": {},
          "execution_count": 388
        }
      ]
    },
    {
      "cell_type": "code",
      "source": [
        "# top influencers\n",
        "\n",
        "maxcoef = np.argsort(-np.abs(Ls.coef_))\n",
        "coef = Ls.coef_[maxcoef]\n",
        "for i in range(0, 5):\n",
        "    print(\"{:.<025} {:< 010.4e}\".format(result.columns[maxcoef[i]], coef[i]))"
      ],
      "metadata": {
        "colab": {
          "base_uri": "https://localhost:8080/"
        },
        "id": "I6QNOJg0N6F1",
        "outputId": "b007a596-9e16-4361-b353-306d83c8522a"
      },
      "execution_count": null,
      "outputs": [
        {
          "output_type": "stream",
          "name": "stdout",
          "text": [
            "Prospect ID..............  1.5382e+01\n",
            "City_Dallas..............  1.4831e+01\n",
            "City_Tulsa............... -1.4554e+00\n",
            "City_Philadelphia........ -8.7654e-01\n",
            "Major_Biological Science Interdepartmental -6.7462e-01\n"
          ]
        }
      ]
    },
    {
      "cell_type": "markdown",
      "source": [
        "This makes more sense because someone who already donated seems more likely to donate again (Prospect ID)\n",
        "\n",
        "I need to look at the cities and major more closely"
      ],
      "metadata": {
        "id": "dhFZMO84Om3e"
      }
    },
    {
      "cell_type": "markdown",
      "source": [
        "### **C Linear Regression with L2 regularization**\n",
        "\n"
      ],
      "metadata": {
        "id": "L-NLIK2EO6ZM"
      }
    },
    {
      "cell_type": "code",
      "source": [
        "# Create linear regression object\n",
        "Rr = RidgeCV()\n",
        "\n",
        "# Train the model using the training sets\n",
        "Rr.fit(train_x, train_y)"
      ],
      "metadata": {
        "colab": {
          "base_uri": "https://localhost:8080/"
        },
        "id": "9lBGeuhkPBrt",
        "outputId": "36041723-ddba-42b9-cdf7-503d08332f86"
      },
      "execution_count": null,
      "outputs": [
        {
          "output_type": "execute_result",
          "data": {
            "text/plain": [
              "RidgeCV(alphas=array([ 0.1,  1. , 10. ]))"
            ]
          },
          "metadata": {},
          "execution_count": 393
        }
      ]
    },
    {
      "cell_type": "code",
      "source": [
        "maxcoef = np.argsort(-np.abs(Rr.coef_))\n",
        "coef = Rr.coef_[maxcoef]\n",
        "for i in range(0, 5):\n",
        "    print(\"{:.<025} {:< 010.4e}\".format(result.columns[maxcoef[i]], coef[i]))"
      ],
      "metadata": {
        "colab": {
          "base_uri": "https://localhost:8080/"
        },
        "id": "ZG2wzPOYPOii",
        "outputId": "11cc80ef-0598-4a4a-844b-1d9f92d38715"
      },
      "execution_count": null,
      "outputs": [
        {
          "output_type": "stream",
          "name": "stdout",
          "text": [
            "Prospect ID..............  2.3056e+01\n",
            "City_Dallas..............  1.2560e+01\n",
            "State_CA.................  9.2716e+00\n",
            "Major_Electrical Engineering  7.2601e+00\n",
            "Major_Biological Science Interdepartmental -6.6010e+00\n"
          ]
        }
      ]
    },
    {
      "cell_type": "markdown",
      "source": [
        "This seems even more closely aligned to my data exploration in Tableau: prior donors, donors in Texas (Dallas), California, Science majors"
      ],
      "metadata": {
        "id": "eZ9UGt4-PhW5"
      }
    },
    {
      "cell_type": "markdown",
      "source": [
        "###**D. Linear Regression elastic net**\n",
        "\n",
        "This includes both Lasso and Ridge regularization together."
      ],
      "metadata": {
        "id": "US6ORTNnP0Wi"
      }
    },
    {
      "cell_type": "code",
      "source": [
        "# Create linear regression object\n",
        "EN = ElasticNetCV(l1_ratio=np.linspace(0.1, 1.0, 5)) # we are essentially smashing most of the Rr model here\n",
        "\n",
        "# Train the model using the training sets\n",
        "train_EN = EN.fit(train_x, train_y)"
      ],
      "metadata": {
        "id": "QB1-I5gmQFhN"
      },
      "execution_count": null,
      "outputs": []
    },
    {
      "cell_type": "code",
      "source": [
        "# top influencers\n",
        "\n",
        "maxcoef = np.argsort(-np.abs(EN.coef_))\n",
        "coef = EN.coef_[maxcoef]\n",
        "for i in range(0, 5):\n",
        "    print(\"{:.<025} {:< 010.4e}\".format(result.columns[maxcoef[i]], coef[i]))"
      ],
      "metadata": {
        "colab": {
          "base_uri": "https://localhost:8080/"
        },
        "id": "rkcAUSMRQPQH",
        "outputId": "2ace7283-b99e-450e-8507-926bf78a26d5"
      },
      "execution_count": null,
      "outputs": [
        {
          "output_type": "stream",
          "name": "stdout",
          "text": [
            "Prospect ID..............  1.5382e+01\n",
            "City_Dallas..............  1.4831e+01\n",
            "City_Tulsa............... -1.4554e+00\n",
            "City_Philadelphia........ -8.7654e-01\n",
            "Major_Biological Science Interdepartmental -6.7462e-01\n"
          ]
        }
      ]
    },
    {
      "cell_type": "markdown",
      "source": [
        "Very similar to C"
      ],
      "metadata": {
        "id": "vTTdoizXQlNJ"
      }
    },
    {
      "cell_type": "markdown",
      "source": [
        "Comparisons of models"
      ],
      "metadata": {
        "id": "3sdDjNF_Qr11"
      }
    },
    {
      "cell_type": "code",
      "source": [
        "model = [Ls, Rr, EN]\n",
        "M = len(model)\n",
        "CV = 5\n",
        "score = np.empty((M, CV))\n",
        "for i in range(0, M):\n",
        "    score[i, :] = cross_val_score(model[i], train_x, train_y, cv=CV)"
      ],
      "metadata": {
        "id": "qJ82RIluQvz3"
      },
      "execution_count": null,
      "outputs": []
    },
    {
      "cell_type": "code",
      "source": [
        "print(score.mean(axis=1))"
      ],
      "metadata": {
        "colab": {
          "base_uri": "https://localhost:8080/"
        },
        "id": "CCGywY37RWCv",
        "outputId": "d91485c7-fe78-4741-9c18-c3cea4f0b53f"
      },
      "execution_count": null,
      "outputs": [
        {
          "output_type": "stream",
          "name": "stdout",
          "text": [
            "[ 0.0302388  -0.05396982  0.0302388 ]\n"
          ]
        }
      ]
    },
    {
      "cell_type": "markdown",
      "source": [
        "## **Conclusions:**\n",
        "\n",
        "It seems the elastic ridge fits the best based on these few models. This is assumed based on my Tableau research combined with the above top influencers and comparisons.\n",
        "\n",
        "###**Future improvements and thoughts:**\n",
        "\n",
        "**These models are by no means perfect and very basic. I would also need to predict, run the models on test data, and score each model.** In practice, I would also run other models, starting with tree-based solutions. \n",
        "\n",
        "This is a fictional dataset and intended for educational purposes but if I was gathering this data irl I would additionallty gather information around giving campaigns, point of contact, methods of donation, etc which might give a fuller picture of why someone might donate, as well as predictions.\n",
        "\n",
        "Finally, this dataset was selected because of it's subject matter (higher education fundraising) and its Tableau user-friendliness. The large number of categorical columns would be more difficult to run with a large dataset."
      ],
      "metadata": {
        "id": "VKNLmHvnSl3p"
      }
    },
    {
      "cell_type": "code",
      "source": [],
      "metadata": {
        "id": "vBjGO98MbFtZ"
      },
      "execution_count": null,
      "outputs": []
    }
  ],
  "metadata": {
    "colab": {
      "provenance": []
    },
    "kernelspec": {
      "display_name": "Python 3",
      "name": "python3"
    },
    "language_info": {
      "name": "python"
    }
  },
  "nbformat": 4,
  "nbformat_minor": 0
}